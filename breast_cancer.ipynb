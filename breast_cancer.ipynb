{
  "nbformat": 4,
  "nbformat_minor": 0,
  "metadata": {
    "colab": {
      "provenance": [],
      "gpuType": "T4",
      "mount_file_id": "1-KUGIZ2KyVKZkftDAcE57AV_6NdEya5O",
      "authorship_tag": "ABX9TyNI7XX7roP+gaVOWCqlrGDw",
      "include_colab_link": true
    },
    "kernelspec": {
      "name": "python3",
      "display_name": "Python 3"
    },
    "language_info": {
      "name": "python"
    },
    "accelerator": "GPU"
  },
  "cells": [
    {
      "cell_type": "markdown",
      "metadata": {
        "id": "view-in-github",
        "colab_type": "text"
      },
      "source": [
        "<a href=\"https://colab.research.google.com/github/akanil18/Invigilo/blob/main/breast_cancer.ipynb\" target=\"_parent\"><img src=\"https://colab.research.google.com/assets/colab-badge.svg\" alt=\"Open In Colab\"/></a>"
      ]
    },
    {
      "cell_type": "code",
      "execution_count": 1,
      "metadata": {
        "colab": {
          "base_uri": "https://localhost:8080/"
        },
        "id": "hxjh_fXmEbjx",
        "outputId": "2d94ef59-3811-483f-b0c0-7739f78afe8f"
      },
      "outputs": [
        {
          "output_type": "stream",
          "name": "stdout",
          "text": [
            "Cloning into 'Breast-cancer-dataset'...\n",
            "remote: Enumerating objects: 5224, done.\u001b[K\n",
            "remote: Counting objects: 100% (267/267), done.\u001b[K\n",
            "remote: Compressing objects: 100% (228/228), done.\u001b[K\n",
            "remote: Total 5224 (delta 52), reused 230 (delta 29), pack-reused 4957 (from 1)\u001b[K\n",
            "Receiving objects: 100% (5224/5224), 644.79 MiB | 37.46 MiB/s, done.\n",
            "Resolving deltas: 100% (52/52), done.\n",
            "Updating files: 100% (5139/5139), done.\n"
          ]
        }
      ],
      "source": [
        "!git clone https://github.com/smallboy-code/Breast-cancer-dataset.git\n"
      ]
    },
    {
      "cell_type": "code",
      "source": [
        "%cd /content/Breast-cancer-dataset/Classification\\ task\n"
      ],
      "metadata": {
        "colab": {
          "base_uri": "https://localhost:8080/"
        },
        "id": "GnllSxClEjpN",
        "outputId": "332a4820-a08f-471d-ebbe-3d4eeb542a93"
      },
      "execution_count": 2,
      "outputs": [
        {
          "output_type": "stream",
          "name": "stdout",
          "text": [
            "/content/Breast-cancer-dataset/Classification task\n"
          ]
        }
      ]
    },
    {
      "cell_type": "code",
      "source": [
        "!ls"
      ],
      "metadata": {
        "colab": {
          "base_uri": "https://localhost:8080/"
        },
        "id": "qhgc7ZDBEs2x",
        "outputId": "9ec613f8-fd05-40d3-b125-1df73374da3c"
      },
      "execution_count": 3,
      "outputs": [
        {
          "output_type": "stream",
          "name": "stdout",
          "text": [
            "asserts\t\t    LBP-master\t\t     SvmPred.py\n",
            "data_loader.py\t    lpq.py\t\t     test.py\n",
            "decisionFusion.py   Models.py\t\t     tools.py\n",
            "features\t    mytest.py\t\t     train.py\n",
            "featuresExtract.py  PhotoClassifySVM-master  vision_transformer\n",
            "fusionModels.py     requirements.txt\t     VIT_model.py\n",
            "GLCM-master\t    skSvm.py\n"
          ]
        }
      ]
    },
    {
      "cell_type": "code",
      "source": [
        "!pip install pretrainedmodels"
      ],
      "metadata": {
        "colab": {
          "base_uri": "https://localhost:8080/"
        },
        "id": "9dDiMpjTExIe",
        "outputId": "7f364ff7-bf63-4b97-bc8e-7a99b5fdcf64"
      },
      "execution_count": 4,
      "outputs": [
        {
          "output_type": "stream",
          "name": "stdout",
          "text": [
            "Collecting pretrainedmodels\n",
            "  Downloading pretrainedmodels-0.7.4.tar.gz (58 kB)\n",
            "\u001b[?25l     \u001b[90m━━━━━━━━━━━━━━━━━━━━━━━━━━━━━━━━━━━━━━━━\u001b[0m \u001b[32m0.0/58.8 kB\u001b[0m \u001b[31m?\u001b[0m eta \u001b[36m-:--:--\u001b[0m\r\u001b[2K     \u001b[90m━━━━━━━━━━━━━━━━━━━━━━━━━━━━━━━━━━━━━━━━\u001b[0m \u001b[32m58.8/58.8 kB\u001b[0m \u001b[31m4.0 MB/s\u001b[0m eta \u001b[36m0:00:00\u001b[0m\n",
            "\u001b[?25h  Preparing metadata (setup.py) ... \u001b[?25l\u001b[?25hdone\n",
            "Requirement already satisfied: torch in /usr/local/lib/python3.12/dist-packages (from pretrainedmodels) (2.8.0+cu126)\n",
            "Requirement already satisfied: torchvision in /usr/local/lib/python3.12/dist-packages (from pretrainedmodels) (0.23.0+cu126)\n",
            "Collecting munch (from pretrainedmodels)\n",
            "  Downloading munch-4.0.0-py2.py3-none-any.whl.metadata (5.9 kB)\n",
            "Requirement already satisfied: tqdm in /usr/local/lib/python3.12/dist-packages (from pretrainedmodels) (4.67.1)\n",
            "Requirement already satisfied: filelock in /usr/local/lib/python3.12/dist-packages (from torch->pretrainedmodels) (3.20.0)\n",
            "Requirement already satisfied: typing-extensions>=4.10.0 in /usr/local/lib/python3.12/dist-packages (from torch->pretrainedmodels) (4.15.0)\n",
            "Requirement already satisfied: setuptools in /usr/local/lib/python3.12/dist-packages (from torch->pretrainedmodels) (75.2.0)\n",
            "Requirement already satisfied: sympy>=1.13.3 in /usr/local/lib/python3.12/dist-packages (from torch->pretrainedmodels) (1.13.3)\n",
            "Requirement already satisfied: networkx in /usr/local/lib/python3.12/dist-packages (from torch->pretrainedmodels) (3.5)\n",
            "Requirement already satisfied: jinja2 in /usr/local/lib/python3.12/dist-packages (from torch->pretrainedmodels) (3.1.6)\n",
            "Requirement already satisfied: fsspec in /usr/local/lib/python3.12/dist-packages (from torch->pretrainedmodels) (2025.3.0)\n",
            "Requirement already satisfied: nvidia-cuda-nvrtc-cu12==12.6.77 in /usr/local/lib/python3.12/dist-packages (from torch->pretrainedmodels) (12.6.77)\n",
            "Requirement already satisfied: nvidia-cuda-runtime-cu12==12.6.77 in /usr/local/lib/python3.12/dist-packages (from torch->pretrainedmodels) (12.6.77)\n",
            "Requirement already satisfied: nvidia-cuda-cupti-cu12==12.6.80 in /usr/local/lib/python3.12/dist-packages (from torch->pretrainedmodels) (12.6.80)\n",
            "Requirement already satisfied: nvidia-cudnn-cu12==9.10.2.21 in /usr/local/lib/python3.12/dist-packages (from torch->pretrainedmodels) (9.10.2.21)\n",
            "Requirement already satisfied: nvidia-cublas-cu12==12.6.4.1 in /usr/local/lib/python3.12/dist-packages (from torch->pretrainedmodels) (12.6.4.1)\n",
            "Requirement already satisfied: nvidia-cufft-cu12==11.3.0.4 in /usr/local/lib/python3.12/dist-packages (from torch->pretrainedmodels) (11.3.0.4)\n",
            "Requirement already satisfied: nvidia-curand-cu12==10.3.7.77 in /usr/local/lib/python3.12/dist-packages (from torch->pretrainedmodels) (10.3.7.77)\n",
            "Requirement already satisfied: nvidia-cusolver-cu12==11.7.1.2 in /usr/local/lib/python3.12/dist-packages (from torch->pretrainedmodels) (11.7.1.2)\n",
            "Requirement already satisfied: nvidia-cusparse-cu12==12.5.4.2 in /usr/local/lib/python3.12/dist-packages (from torch->pretrainedmodels) (12.5.4.2)\n",
            "Requirement already satisfied: nvidia-cusparselt-cu12==0.7.1 in /usr/local/lib/python3.12/dist-packages (from torch->pretrainedmodels) (0.7.1)\n",
            "Requirement already satisfied: nvidia-nccl-cu12==2.27.3 in /usr/local/lib/python3.12/dist-packages (from torch->pretrainedmodels) (2.27.3)\n",
            "Requirement already satisfied: nvidia-nvtx-cu12==12.6.77 in /usr/local/lib/python3.12/dist-packages (from torch->pretrainedmodels) (12.6.77)\n",
            "Requirement already satisfied: nvidia-nvjitlink-cu12==12.6.85 in /usr/local/lib/python3.12/dist-packages (from torch->pretrainedmodels) (12.6.85)\n",
            "Requirement already satisfied: nvidia-cufile-cu12==1.11.1.6 in /usr/local/lib/python3.12/dist-packages (from torch->pretrainedmodels) (1.11.1.6)\n",
            "Requirement already satisfied: triton==3.4.0 in /usr/local/lib/python3.12/dist-packages (from torch->pretrainedmodels) (3.4.0)\n",
            "Requirement already satisfied: numpy in /usr/local/lib/python3.12/dist-packages (from torchvision->pretrainedmodels) (2.0.2)\n",
            "Requirement already satisfied: pillow!=8.3.*,>=5.3.0 in /usr/local/lib/python3.12/dist-packages (from torchvision->pretrainedmodels) (11.3.0)\n",
            "Requirement already satisfied: mpmath<1.4,>=1.1.0 in /usr/local/lib/python3.12/dist-packages (from sympy>=1.13.3->torch->pretrainedmodels) (1.3.0)\n",
            "Requirement already satisfied: MarkupSafe>=2.0 in /usr/local/lib/python3.12/dist-packages (from jinja2->torch->pretrainedmodels) (3.0.3)\n",
            "Downloading munch-4.0.0-py2.py3-none-any.whl (9.9 kB)\n",
            "Building wheels for collected packages: pretrainedmodels\n",
            "  Building wheel for pretrainedmodels (setup.py) ... \u001b[?25l\u001b[?25hdone\n",
            "  Created wheel for pretrainedmodels: filename=pretrainedmodels-0.7.4-py3-none-any.whl size=60945 sha256=94c71d80942a09717530cb306bc656950f47017afe7831873fdbf37316e6c77f\n",
            "  Stored in directory: /root/.cache/pip/wheels/4c/01/56/40a48f75dbdfe167a0cb70d3b48913369a00ec5c4e9fed5f2b\n",
            "Successfully built pretrainedmodels\n",
            "Installing collected packages: munch, pretrainedmodels\n",
            "Successfully installed munch-4.0.0 pretrainedmodels-0.7.4\n"
          ]
        }
      ]
    },
    {
      "cell_type": "code",
      "source": [
        "!pip install lambda_networks"
      ],
      "metadata": {
        "colab": {
          "base_uri": "https://localhost:8080/"
        },
        "id": "9H0Tdq9CFVTL",
        "outputId": "2200cbca-1977-4878-8c58-3898f6e7556e"
      },
      "execution_count": 5,
      "outputs": [
        {
          "output_type": "stream",
          "name": "stdout",
          "text": [
            "Collecting lambda_networks\n",
            "  Downloading lambda_networks-0.4.0-py3-none-any.whl.metadata (636 bytes)\n",
            "Requirement already satisfied: torch>=1.6 in /usr/local/lib/python3.12/dist-packages (from lambda_networks) (2.8.0+cu126)\n",
            "Requirement already satisfied: einops>=0.3 in /usr/local/lib/python3.12/dist-packages (from lambda_networks) (0.8.1)\n",
            "Requirement already satisfied: filelock in /usr/local/lib/python3.12/dist-packages (from torch>=1.6->lambda_networks) (3.20.0)\n",
            "Requirement already satisfied: typing-extensions>=4.10.0 in /usr/local/lib/python3.12/dist-packages (from torch>=1.6->lambda_networks) (4.15.0)\n",
            "Requirement already satisfied: setuptools in /usr/local/lib/python3.12/dist-packages (from torch>=1.6->lambda_networks) (75.2.0)\n",
            "Requirement already satisfied: sympy>=1.13.3 in /usr/local/lib/python3.12/dist-packages (from torch>=1.6->lambda_networks) (1.13.3)\n",
            "Requirement already satisfied: networkx in /usr/local/lib/python3.12/dist-packages (from torch>=1.6->lambda_networks) (3.5)\n",
            "Requirement already satisfied: jinja2 in /usr/local/lib/python3.12/dist-packages (from torch>=1.6->lambda_networks) (3.1.6)\n",
            "Requirement already satisfied: fsspec in /usr/local/lib/python3.12/dist-packages (from torch>=1.6->lambda_networks) (2025.3.0)\n",
            "Requirement already satisfied: nvidia-cuda-nvrtc-cu12==12.6.77 in /usr/local/lib/python3.12/dist-packages (from torch>=1.6->lambda_networks) (12.6.77)\n",
            "Requirement already satisfied: nvidia-cuda-runtime-cu12==12.6.77 in /usr/local/lib/python3.12/dist-packages (from torch>=1.6->lambda_networks) (12.6.77)\n",
            "Requirement already satisfied: nvidia-cuda-cupti-cu12==12.6.80 in /usr/local/lib/python3.12/dist-packages (from torch>=1.6->lambda_networks) (12.6.80)\n",
            "Requirement already satisfied: nvidia-cudnn-cu12==9.10.2.21 in /usr/local/lib/python3.12/dist-packages (from torch>=1.6->lambda_networks) (9.10.2.21)\n",
            "Requirement already satisfied: nvidia-cublas-cu12==12.6.4.1 in /usr/local/lib/python3.12/dist-packages (from torch>=1.6->lambda_networks) (12.6.4.1)\n",
            "Requirement already satisfied: nvidia-cufft-cu12==11.3.0.4 in /usr/local/lib/python3.12/dist-packages (from torch>=1.6->lambda_networks) (11.3.0.4)\n",
            "Requirement already satisfied: nvidia-curand-cu12==10.3.7.77 in /usr/local/lib/python3.12/dist-packages (from torch>=1.6->lambda_networks) (10.3.7.77)\n",
            "Requirement already satisfied: nvidia-cusolver-cu12==11.7.1.2 in /usr/local/lib/python3.12/dist-packages (from torch>=1.6->lambda_networks) (11.7.1.2)\n",
            "Requirement already satisfied: nvidia-cusparse-cu12==12.5.4.2 in /usr/local/lib/python3.12/dist-packages (from torch>=1.6->lambda_networks) (12.5.4.2)\n",
            "Requirement already satisfied: nvidia-cusparselt-cu12==0.7.1 in /usr/local/lib/python3.12/dist-packages (from torch>=1.6->lambda_networks) (0.7.1)\n",
            "Requirement already satisfied: nvidia-nccl-cu12==2.27.3 in /usr/local/lib/python3.12/dist-packages (from torch>=1.6->lambda_networks) (2.27.3)\n",
            "Requirement already satisfied: nvidia-nvtx-cu12==12.6.77 in /usr/local/lib/python3.12/dist-packages (from torch>=1.6->lambda_networks) (12.6.77)\n",
            "Requirement already satisfied: nvidia-nvjitlink-cu12==12.6.85 in /usr/local/lib/python3.12/dist-packages (from torch>=1.6->lambda_networks) (12.6.85)\n",
            "Requirement already satisfied: nvidia-cufile-cu12==1.11.1.6 in /usr/local/lib/python3.12/dist-packages (from torch>=1.6->lambda_networks) (1.11.1.6)\n",
            "Requirement already satisfied: triton==3.4.0 in /usr/local/lib/python3.12/dist-packages (from torch>=1.6->lambda_networks) (3.4.0)\n",
            "Requirement already satisfied: mpmath<1.4,>=1.1.0 in /usr/local/lib/python3.12/dist-packages (from sympy>=1.13.3->torch>=1.6->lambda_networks) (1.3.0)\n",
            "Requirement already satisfied: MarkupSafe>=2.0 in /usr/local/lib/python3.12/dist-packages (from jinja2->torch>=1.6->lambda_networks) (3.0.3)\n",
            "Downloading lambda_networks-0.4.0-py3-none-any.whl (5.0 kB)\n",
            "Installing collected packages: lambda_networks\n",
            "Successfully installed lambda_networks-0.4.0\n"
          ]
        }
      ]
    },
    {
      "cell_type": "code",
      "source": [
        "import Models"
      ],
      "metadata": {
        "colab": {
          "base_uri": "https://localhost:8080/"
        },
        "id": "mrqRadT-FFiY",
        "outputId": "dc7699d7-674b-4869-ca30-e4d69154fe4e"
      },
      "execution_count": 6,
      "outputs": [
        {
          "output_type": "stream",
          "name": "stderr",
          "text": [
            "/usr/local/lib/python3.12/dist-packages/torch/functional.py:554: UserWarning: torch.meshgrid: in an upcoming release, it will be required to pass the indexing argument. (Triggered internally at /pytorch/aten/src/ATen/native/TensorShape.cpp:4322.)\n",
            "  return _VF.meshgrid(tensors, **kwargs)  # type: ignore[attr-defined]\n"
          ]
        }
      ]
    },
    {
      "cell_type": "code",
      "source": [
        "!pip install -q \"pylibjpeg>=2.0\" \"pylibjpeg-libjpeg>=2.1\" pylibjpeg-openjpeg pylibjpeg-rle"
      ],
      "metadata": {
        "colab": {
          "base_uri": "https://localhost:8080/"
        },
        "id": "Yu3nPwjvFMpl",
        "outputId": "094816c7-cdbe-4e13-bbfa-e5b57b048579"
      },
      "execution_count": 7,
      "outputs": [
        {
          "output_type": "stream",
          "name": "stdout",
          "text": [
            "\u001b[2K   \u001b[90m━━━━━━━━━━━━━━━━━━━━━━━━━━━━━━━━━━━━━━━━\u001b[0m \u001b[32m3.4/3.4 MB\u001b[0m \u001b[31m68.5 MB/s\u001b[0m eta \u001b[36m0:00:00\u001b[0m\n",
            "\u001b[2K   \u001b[90m━━━━━━━━━━━━━━━━━━━━━━━━━━━━━━━━━━━━━━━━\u001b[0m \u001b[32m2.0/2.0 MB\u001b[0m \u001b[31m22.4 MB/s\u001b[0m eta \u001b[36m0:00:00\u001b[0m\n",
            "\u001b[2K   \u001b[90m━━━━━━━━━━━━━━━━━━━━━━━━━━━━━━━━━━━━━━━━\u001b[0m \u001b[32m272.3/272.3 kB\u001b[0m \u001b[31m11.8 MB/s\u001b[0m eta \u001b[36m0:00:00\u001b[0m\n",
            "\u001b[?25h"
          ]
        }
      ]
    },
    {
      "cell_type": "code",
      "source": [
        "!pip install pydicom"
      ],
      "metadata": {
        "colab": {
          "base_uri": "https://localhost:8080/"
        },
        "id": "ohJbmVL_FzXx",
        "outputId": "b926f0b3-d089-41dc-e1fb-d42e93ee1d64"
      },
      "execution_count": 8,
      "outputs": [
        {
          "output_type": "stream",
          "name": "stdout",
          "text": [
            "Collecting pydicom\n",
            "  Downloading pydicom-3.0.1-py3-none-any.whl.metadata (9.4 kB)\n",
            "Downloading pydicom-3.0.1-py3-none-any.whl (2.4 MB)\n",
            "\u001b[?25l   \u001b[90m━━━━━━━━━━━━━━━━━━━━━━━━━━━━━━━━━━━━━━━━\u001b[0m \u001b[32m0.0/2.4 MB\u001b[0m \u001b[31m?\u001b[0m eta \u001b[36m-:--:--\u001b[0m\r\u001b[2K   \u001b[91m━━━━━━━━━━━━━━━━━\u001b[0m\u001b[90m╺\u001b[0m\u001b[90m━━━━━━━━━━━━━━━━━━━━━━\u001b[0m \u001b[32m1.0/2.4 MB\u001b[0m \u001b[31m30.3 MB/s\u001b[0m eta \u001b[36m0:00:01\u001b[0m\r\u001b[2K   \u001b[90m━━━━━━━━━━━━━━━━━━━━━━━━━━━━━━━━━━━━━━━━\u001b[0m \u001b[32m2.4/2.4 MB\u001b[0m \u001b[31m40.0 MB/s\u001b[0m eta \u001b[36m0:00:00\u001b[0m\n",
            "\u001b[?25hInstalling collected packages: pydicom\n",
            "Successfully installed pydicom-3.0.1\n"
          ]
        }
      ]
    },
    {
      "cell_type": "code",
      "source": [
        "import pydicom\n",
        "import matplotlib.pyplot as plt\n",
        "\n",
        "# Path to your DICOM file\n",
        "dcm_path = \"/content/Breast-cancer-dataset/Breast cancer image samples/Malignant/BreaDM-Ma-1801/SUB2/p-000.dcm\"\n",
        "\n",
        "# Read DICOM image\n",
        "ds = pydicom.dcmread(dcm_path)\n",
        "\n",
        "# Extract pixel data (requires decoder plugins if compressed)\n",
        "img = ds.pixel_array\n",
        "\n",
        "# Plot the DICOM image\n",
        "plt.figure(figsize=(6, 6))\n",
        "plt.imshow(img, cmap='gray')\n",
        "plt.title(\"Extracted DICOM Image\")\n",
        "plt.axis('off')  # Hide axes\n",
        "plt.show()\n"
      ],
      "metadata": {
        "colab": {
          "base_uri": "https://localhost:8080/",
          "height": 521
        },
        "id": "KWbI5fF-Fn57",
        "outputId": "809ac320-f08b-42ba-c3ef-cc1027c689cb"
      },
      "execution_count": 9,
      "outputs": [
        {
          "output_type": "display_data",
          "data": {
            "text/plain": [
              "<Figure size 600x600 with 1 Axes>"
            ],
            "image/png": "[encoded data removed]"
          },
          "metadata": {}
        }
      ]
    },
    {
      "cell_type": "markdown",
      "source": [
        "Conversion .dcm to png\n"
      ],
      "metadata": {
        "id": "piGcwh10GCVq"
      }
    },
    {
      "cell_type": "code",
      "source": [
        "%cd /content/Breast-cancer-dataset/\n"
      ],
      "metadata": {
        "colab": {
          "base_uri": "https://localhost:8080/"
        },
        "id": "LZtHSfCaGWvK",
        "outputId": "f653e68b-98fb-489b-f36b-b6bb5c4a6a26"
      },
      "execution_count": 10,
      "outputs": [
        {
          "output_type": "stream",
          "name": "stdout",
          "text": [
            "/content/Breast-cancer-dataset\n"
          ]
        }
      ]
    },
    {
      "cell_type": "code",
      "metadata": {
        "colab": {
          "base_uri": "https://localhost:8080/"
        },
        "id": "36a7fcae",
        "outputId": "08847fd2-7326-4dc1-f396-a6f95e373d0b"
      },
      "source": [
        "import pydicom\n",
        "from PIL import Image\n",
        "from pathlib import Path\n",
        "import os\n",
        "\n",
        "# Define base directory (adjust if needed)\n",
        "REPO_DIR = Path.cwd()  # Current working directory, usually '/content' in Colab\n",
        "\n",
        "# Define paths\n",
        "DCM_ROOT = REPO_DIR / 'Breast cancer image samples'\n",
        "OUT_IMG_ROOT = REPO_DIR / 'breast_images_pydicom'   # Output directory name\n",
        "OUT_IMG_ROOT.mkdir(parents=True, exist_ok=True)\n",
        "\n",
        "converted = 0\n",
        "failed = 0\n",
        "\n",
        "# Traverse dataset\n",
        "if DCM_ROOT.exists():\n",
        "    for class_dir in sorted(DCM_ROOT.iterdir()):\n",
        "        if not class_dir.is_dir():\n",
        "            continue\n",
        "        for patient in sorted(class_dir.iterdir()):\n",
        "            if not patient.is_dir():\n",
        "                continue\n",
        "            files = list(patient.glob('**/*.dcm'))\n",
        "            if not files:\n",
        "                continue\n",
        "\n",
        "            for f in files:\n",
        "                try:\n",
        "                    ds = pydicom.dcmread(f)\n",
        "                    img = ds.pixel_array\n",
        "\n",
        "                    # Create output path, keeping folder hierarchy\n",
        "                    relative_path = f.relative_to(patient)\n",
        "                    out_path = OUT_IMG_ROOT / class_dir.name / patient.name / relative_path.parent / (f.stem + '.png')\n",
        "                    out_path.parent.mkdir(parents=True, exist_ok=True)\n",
        "\n",
        "                    # Convert numpy array to PIL Image and save as PNG\n",
        "                    img_pil = Image.fromarray(img)\n",
        "                    img_pil.save(out_path)\n",
        "                    converted += 1\n",
        "                except Exception as e:\n",
        "                    print(f\"⚠️ Exception converting {f}: {e}\")\n",
        "                    failed += 1\n",
        "\n",
        "    print(f\"\\n✅ Conversion completed successfully!\")\n",
        "    print(f\"🖼️ Converted: {converted} PNG files\")\n",
        "    print(f\"⚠️ Failed: {failed} files\")\n",
        "    print(f\"📁 Output directory: {OUT_IMG_ROOT}\")\n",
        "else:\n",
        "    print(f\"❌ DICOM root not found at {DCM_ROOT}\")"
      ],
      "execution_count": 11,
      "outputs": [
        {
          "metadata": {
            "tags": null
          },
          "name": "stderr",
          "output_type": "stream",
          "text": [
            "/tmp/ipython-input-580953532.py:41: DeprecationWarning: Saving I mode images as PNG is deprecated and will be removed in Pillow 13 (2026-10-15)\n",
            "  img_pil.save(out_path)\n"
          ]
        },
        {
          "output_type": "stream",
          "name": "stdout",
          "text": [
            "\n",
            "✅ Conversion completed successfully!\n",
            "🖼️ Converted: 4953 PNG files\n",
            "⚠️ Failed: 0 files\n",
            "📁 Output directory: /content/Breast-cancer-dataset/breast_images_pydicom\n"
          ]
        }
      ]
    },
    {
      "cell_type": "code",
      "source": [],
      "metadata": {
        "id": "dLBMEuuHSZ1O"
      },
      "execution_count": 11,
      "outputs": []
    },
    {
      "cell_type": "code",
      "metadata": {
        "colab": {
          "base_uri": "https://localhost:8080/"
        },
        "id": "91babef0",
        "outputId": "6428c104-bed0-4d14-cf84-5038200f3537"
      },
      "source": [
        "import shutil\n",
        "import os\n",
        "\n",
        "# Define the directory to be compressed\n",
        "source_dir = '/content/Breast-cancer-dataset'\n",
        "# Define the output filename (without extension)\n",
        "output_filename = 'breast-cancer-dataset'\n",
        "# Define the output directory\n",
        "output_dir = '/content/'\n",
        "\n",
        "# Create the archive\n",
        "shutil.make_archive(os.path.join(output_dir, output_filename), 'gztar', source_dir)\n",
        "\n",
        "print(f\"Dataset compressed to {os.path.join(output_dir, output_filename)}.tar.gz\")"
      ],
      "execution_count": 12,
      "outputs": [
        {
          "output_type": "stream",
          "name": "stdout",
          "text": [
            "Dataset compressed to /content/breast-cancer-dataset.tar.gz\n"
          ]
        }
      ]
    },
    {
      "cell_type": "markdown",
      "source": [
        "png image visualize\n"
      ],
      "metadata": {
        "id": "hmoHEsVGKolg"
      }
    },
    {
      "cell_type": "code",
      "source": [
        "from PIL import Image\n",
        "import matplotlib.pyplot as plt\n",
        "\n",
        "# Path to your PNG image\n",
        "png_path = \"/content/Breast-cancer-dataset/breast_images_pydicom/Malignant/BreaDM-Ma-1801/SUB2/p-000.png\"\n",
        "\n",
        "# Open the image\n",
        "img = Image.open(png_path)\n",
        "\n",
        "# Display the image\n",
        "plt.imshow(img, cmap='gray')  # Use cmap='gray' if it's grayscale\n",
        "plt.axis('off')  # Hide axes\n",
        "plt.show()\n"
      ],
      "metadata": {
        "id": "5ufTqsi2KoCi"
      },
      "execution_count": null,
      "outputs": []
    },
    {
      "cell_type": "markdown",
      "source": [
        "Training part\n"
      ],
      "metadata": {
        "id": "4KwR9-Q7JSms"
      }
    },
    {
      "cell_type": "code",
      "source": [
        "%cd /content/Breast-cancer-dataset/Classification\\ task\n"
      ],
      "metadata": {
        "colab": {
          "base_uri": "https://localhost:8080/"
        },
        "id": "ise7lZXcS0eV",
        "outputId": "aca92555-e024-4800-e62d-8339e3dc57f6"
      },
      "execution_count": 15,
      "outputs": [
        {
          "output_type": "stream",
          "name": "stdout",
          "text": [
            "/content/Breast-cancer-dataset/Classification task\n"
          ]
        }
      ]
    },
    {
      "cell_type": "code",
      "source": [
        "%cd /content/Breast-cancer-dataset/Classification\\ task"
      ],
      "metadata": {
        "colab": {
          "base_uri": "https://localhost:8080/"
        },
        "id": "O_0ND4CaLWlR",
        "outputId": "3a8f9465-736b-4e34-a9e5-f7670a277a7e"
      },
      "execution_count": 16,
      "outputs": [
        {
          "output_type": "stream",
          "name": "stdout",
          "text": [
            "/content/Breast-cancer-dataset/Classification task\n"
          ]
        }
      ]
    },
    {
      "cell_type": "code",
      "source": [
        "import numpy as np\n",
        "import torch\n",
        "\n",
        "class EarlyStopping:\n",
        "    \"\"\"Early stops the training if validation loss doesn't improve after a given patience.\"\"\"\n",
        "    def __init__(self, patience=7, verbose=False, delta=0, path='checkpoint.pt', trace_func=print):\n",
        "        \"\"\"\n",
        "        Args:\n",
        "            patience (int): How long to wait after last time validation loss improved.\n",
        "                            Default: 7\n",
        "            verbose (bool): If True, prints a message for each validation loss improvement.\n",
        "                            Default: False\n",
        "            delta (float): Minimum change in the monitored quantity to qualify as an improvement.\n",
        "                            Default: 0\n",
        "            path (str): Path for the checkpoint to be saved to.\n",
        "                            Default: 'checkpoint.pt'\n",
        "            trace_func (function): trace print function.\n",
        "                            Default: print\n",
        "        \"\"\"\n",
        "        self.patience = patience\n",
        "        self.verbose = verbose\n",
        "        self.counter = 0\n",
        "        self.best_score = None\n",
        "        self.early_stop = False\n",
        "        self.val_loss_min = np.inf\n",
        "        self.delta = delta\n",
        "        self.path = path\n",
        "        self.trace_func = trace_func\n",
        "    def __call__(self, val_loss, model):\n",
        "\n",
        "        score = -val_loss\n",
        "\n",
        "        if self.best_score is None:\n",
        "            self.best_score = score\n",
        "            self.save_checkpoint(val_loss, model)\n",
        "        elif score < self.best_score + self.delta:\n",
        "            self.counter += 1\n",
        "            self.trace_func(f'EarlyStopping counter: {self.counter} out of {self.patience}')\n",
        "            if self.counter >= self.patience:\n",
        "                self.early_stop = True\n",
        "        else:\n",
        "            self.best_score = score\n",
        "            self.save_checkpoint(val_loss, model)\n",
        "            self.counter = 0\n",
        "\n",
        "    def save_checkpoint(self, val_loss, model):\n",
        "        '''Saves model when validation loss decrease.'''\n",
        "        if self.verbose:\n",
        "            self.trace_func(f'Validation loss decreased ({self.val_loss_min:.6f} --> {val_loss:.6f}).  Saving model ...')\n",
        "        torch.save(model.state_dict(), self.path)\n",
        "        self.val_loss_min = val_loss"
      ],
      "metadata": {
        "id": "doZcsrmZVY-O"
      },
      "execution_count": 18,
      "outputs": []
    },
    {
      "cell_type": "code",
      "source": [
        "def youden(tpr, fpr, thresholds):\n",
        "    \"\"\"\n",
        "    Calculate the optimal threshold using the Youden index (J = TPR - FPR).\n",
        "    \"\"\"\n",
        "    youden_index = tpr - fpr\n",
        "    optimal_index = np.argmax(youden_index)\n",
        "    optimal_threshold = thresholds[optimal_index]\n",
        "    return optimal_index, optimal_threshold"
      ],
      "metadata": {
        "id": "UFsvHA-HTeKJ"
      },
      "execution_count": 19,
      "outputs": []
    },
    {
      "cell_type": "markdown",
      "source": [
        "Resnet101\n"
      ],
      "metadata": {
        "id": "KaCPg7lehYpB"
      }
    },
    {
      "cell_type": "code",
      "source": [
        "from __future__ import print_function\n",
        "import argparse\n",
        "import torch\n",
        "from torch import nn\n",
        "import torch.nn.functional as F\n",
        "import torch.optim as optim\n",
        "import os\n",
        "import math\n",
        "import data_loader\n",
        "import Models\n",
        "import time\n",
        "from torch.utils import model_zoo\n",
        "from sklearn import metrics\n",
        "\n",
        "import numpy as np\n",
        "import pandas as pd\n",
        "from shutil import rmtree, copyfile\n",
        "import random\n",
        "from sklearn.metrics import roc_auc_score, auc, roc_curve\n",
        "import matplotlib.pyplot as plt\n",
        "from pathlib import Path\n",
        "import fusionModels\n",
        "import csv\n",
        "\n",
        "# =============== Configuration ===============\n",
        "batch_size = 32\n",
        "model_name = 'resnet101'\n",
        "gpu = '0'\n",
        "num_class = 2\n",
        "random_seed = 1\n",
        "split_train_ratio = 0.8\n",
        "task_name = 'breast-cancer-dataset'\n",
        "path = '/content/Breast-cancer-dataset/breast_images_pydicom'\n",
        "auto_split = '1'\n",
        "\n",
        "os.environ[\"CUDA_VISIBLE_DEVICES\"] = gpu\n",
        "epochs = 100\n",
        "lr = 0.01\n",
        "momentum = 0.9\n",
        "no_cuda = False\n",
        "seed = 8\n",
        "l2_decay = 0.01\n",
        "\n",
        "source_name = \"train\"\n",
        "target_name = \"val\"\n",
        "\n",
        "cuda = not no_cuda and torch.cuda.is_available()\n",
        "torch.manual_seed(seed)\n",
        "if cuda:\n",
        "    torch.cuda.manual_seed(seed)\n",
        "kwargs = {'num_workers': 4, 'pin_memory': True} if cuda else {}\n",
        "\n",
        "\n",
        "# =============== Dataset Split ===============\n",
        "def split_data():\n",
        "    original_classes = ['Benign', 'Malignant']\n",
        "\n",
        "    for name in [source_name, 'val']:\n",
        "        full_dir = os.path.join(path, name)\n",
        "        if os.path.exists(full_dir):\n",
        "            print(f\"Removing existing directory: {full_dir}\")\n",
        "            rmtree(full_dir)\n",
        "        print(f\"Creating directory: {full_dir}\")\n",
        "        os.makedirs(full_dir, exist_ok=True)\n",
        "\n",
        "    for class_name in original_classes:\n",
        "        full_path_class = Path(path) / class_name\n",
        "        if not full_path_class.is_dir():\n",
        "            print(f\"Warning: Class directory '{class_name}' not found at {full_path_class}. Skipping.\")\n",
        "            continue\n",
        "\n",
        "        train_class_dir = Path(path) / 'train' / class_name\n",
        "        val_class_dir = Path(path) / 'val' / class_name\n",
        "        train_class_dir.mkdir(parents=True, exist_ok=True)\n",
        "        val_class_dir.mkdir(parents=True, exist_ok=True)\n",
        "\n",
        "        files = list(full_path_class.glob('**/*.png'))\n",
        "        random.seed(random_seed)\n",
        "        random.shuffle(files)\n",
        "\n",
        "        split_index = int(len(files) * split_train_ratio)\n",
        "        train_files = files[:split_index]\n",
        "        val_files = files[split_index:]\n",
        "\n",
        "        for file_path in train_files:\n",
        "            dst_path = train_class_dir / file_path.name\n",
        "            copyfile(file_path, dst_path)\n",
        "\n",
        "        for file_path in val_files:\n",
        "            dst_path = val_class_dir / file_path.name\n",
        "            copyfile(file_path, dst_path)\n",
        "\n",
        "    print('Data split complete.')\n",
        "\n",
        "\n",
        "if auto_split == '1':\n",
        "    split_data()\n",
        "\n",
        "# =============== Loaders ===============\n",
        "num_classes = len([d for d in os.listdir(os.path.join(path, source_name)) if os.path.isdir(os.path.join(path, source_name, d))])\n",
        "source_loader = data_loader.load_training(path, source_name, batch_size, kwargs)\n",
        "target_val_loader, names, label = data_loader.load_testing(path, target_name, batch_size, kwargs)\n",
        "\n",
        "len_source_dataset = len(source_loader.dataset)\n",
        "len_target_dataset = len(target_val_loader.dataset)\n",
        "\n",
        "\n",
        "# =============== Helper Functions ===============\n",
        "def youden(tpr, fpr, thresholds):\n",
        "    youden_index = tpr - fpr\n",
        "    max_index = np.argmax(youden_index)\n",
        "    return max_index, thresholds[max_index]\n",
        "\n",
        "\n",
        "def save_dict(model):\n",
        "    state_dict = model.module.state_dict() if isinstance(model, nn.DataParallel) else model.state_dict()\n",
        "    model_dir = f'model/{task_name}'\n",
        "    os.makedirs(model_dir, exist_ok=True)\n",
        "    torch.save(state_dict, f'{model_dir}/{model_name}.pth')\n",
        "\n",
        "\n",
        "# =============== Training and Validation ===============\n",
        "def train(epoch, model):\n",
        "    LEARNING_RATE = max(lr * (0.1 ** (epoch // 10)), 1e-5)\n",
        "    optimizer = torch.optim.SGD(\n",
        "        [{'params': model.parameters()}],\n",
        "        lr=LEARNING_RATE, momentum=momentum, weight_decay=l2_decay\n",
        "    )\n",
        "\n",
        "    model.train()\n",
        "    correct = 0\n",
        "    total_loss = 0.0\n",
        "\n",
        "    print(f\"Starting training epoch {epoch}...\")\n",
        "    try:\n",
        "        for batch_idx, (data, label) in enumerate(source_loader):\n",
        "            print(f\"  Processing batch {batch_idx}...\")\n",
        "            data, label = data.float().cuda(), label.long().cuda()\n",
        "            pred = model(data)\n",
        "            loss = F.nll_loss(F.log_softmax(pred, dim=1), label)\n",
        "\n",
        "            optimizer.zero_grad()\n",
        "            loss.backward()\n",
        "            optimizer.step()\n",
        "\n",
        "            total_loss += loss.item() * data.size(0)\n",
        "            pred = pred.data.max(1)[1]\n",
        "            correct += pred.eq(label.data.view_as(pred)).cpu().sum()\n",
        "            print(f\"    Batch loss: {loss.item():.4f}, Correct predictions in batch: {pred.eq(label.data.view_as(pred)).cpu().sum()}\")\n",
        "\n",
        "\n",
        "        avg_loss = total_loss / len_source_dataset\n",
        "        acc = 100. * correct / len_source_dataset\n",
        "        print(f\"Train Epoch {epoch}: Total Loss {total_loss:.4f}, Avg Loss {avg_loss:.4f} | Correct {correct} | Accuracy {acc:.2f}% | LR {LEARNING_RATE}\")\n",
        "        return avg_loss, acc\n",
        "    except Exception as e:\n",
        "        print(f\"An error occurred during training epoch {epoch}: {e}\")\n",
        "        # Return None or raise the exception, depending on desired behavior\n",
        "        # Returning None might prevent the unpack error but requires handling in the caller\n",
        "        # Raising the exception provides more detailed error information immediately\n",
        "        raise # Re-raise the exception after printing\n",
        "\n",
        "\n",
        "def val(model):\n",
        "    model.eval()\n",
        "    test_loss = 0.0\n",
        "    correct = 0\n",
        "    possbilitys = None\n",
        "    pred_all = []\n",
        "\n",
        "    print(f\"Starting validation...\")\n",
        "    with torch.no_grad():\n",
        "        for batch_idx, (data, target) in enumerate(target_val_loader):\n",
        "            print(f\"  Processing validation batch {batch_idx}...\")\n",
        "            if cuda:\n",
        "                data, target = data.cuda(), target.cuda()\n",
        "            s_output = model(data)\n",
        "            loss = F.nll_loss(F.log_softmax(s_output, dim=1), target, reduction='sum')\n",
        "            test_loss += loss.item()\n",
        "            pred = s_output.data.max(1)[1]\n",
        "            pred_all.append(pred.cpu().numpy())\n",
        "\n",
        "            possbility = F.softmax(s_output, dim=1).cpu().data.numpy()\n",
        "            possbilitys = possbility if possbilitys is None else np.append(possbilitys, possbility, axis=0)\n",
        "            correct += pred.eq(target.data.view_as(pred)).cpu().sum()\n",
        "            print(f\"    Validation batch loss: {loss.item():.4f}, Correct predictions in batch: {pred.eq(target.data.view_as(pred)).cpu().sum()}\")\n",
        "\n",
        "\n",
        "    pred_all = [i for item in pred_all for i in item]\n",
        "    cm = metrics.confusion_matrix(label, pred_all)\n",
        "    label_onehot = np.eye(num_classes)[np.array(label).astype(np.int32).tolist()]\n",
        "    fpr, tpr, thresholds = roc_curve(label_onehot.ravel(), possbilitys.ravel())\n",
        "    index, optimal_threshold = youden(tpr, fpr, thresholds)\n",
        "    auc_value = auc(fpr, tpr)\n",
        "    test_loss /= len_target_dataset\n",
        "\n",
        "    acc = 100. * correct / len_target_dataset\n",
        "    print(f\"{target_name} set: Avg Loss {test_loss:.4f} | Accuracy {acc:.2f}% | AUC {auc_value:.4f}\")\n",
        "    return acc, test_loss, auc_value\n",
        "\n",
        "\n",
        "# =============== Main ===============\n",
        "if __name__ == '__main__':\n",
        "    if model_name == 'resnet101':\n",
        "        model = Models.Resnet101(num_classes=num_classes)\n",
        "    elif model_name == 'resnext101':\n",
        "        model = Models.Resnext101(num_classes=num_classes)\n",
        "    elif model_name == 'densenet201':\n",
        "        model = Models.Densnet201(num_classes=num_classes)\n",
        "    elif model_name == 'resnet50':\n",
        "        model = Models.Resnet50(num_classes=num_classes)\n",
        "    elif model_name == 'densenet169':\n",
        "        model = Models.Densenet169(num_classes=num_classes)\n",
        "    elif model_name == 'vgg16':\n",
        "        model = Models.vgg16(num_classes=num_classes)\n",
        "    elif model_name == 'senet101':\n",
        "        model = Models.Senet101(num_classes=num_classes)\n",
        "    elif model_name == 'resnet18':\n",
        "        model = Models.Resnet18(num_classes=num_classes)\n",
        "    elif model_name == 'mynet':\n",
        "        model = Models.MyNet(num_classes=num_classes)\n",
        "    elif model_name == 'senet50':\n",
        "        model = Models.Senet50(num_classes=num_classes)\n",
        "    elif model_name == 'resnet152':\n",
        "        model = Models.Resnet152(num_classes=num_classes)\n",
        "    elif model_name == 'fusion':\n",
        "        model = fusionModels.FusionM(num_classes=num_classes, load_vit=True)\n",
        "\n",
        "    print(model)\n",
        "    model = torch.nn.DataParallel(model, device_ids=list(range(len(gpu.split(',')))))\n",
        "    model.cuda()\n",
        "\n",
        "    best_auc = 0\n",
        "    early_stopping = EarlyStopping(patience=20, verbose=True)\n",
        "\n",
        "    # Tracking lists\n",
        "    train_acc_list_resnet101, val_acc_list_resnet101 = [], []\n",
        "    train_loss_list_resnet101, val_loss_list_resnet101 = [] , []\n",
        "\n",
        "    for epoch in range(1, epochs + 1):\n",
        "        try:\n",
        "            train_loss, train_acc = train(epoch, model)\n",
        "            train_loss_list_resnet101.append(train_loss)\n",
        "            train_acc_list_resnet101.append(train_acc)\n",
        "\n",
        "            with torch.no_grad():\n",
        "                val_acc, val_loss, auc_val = val(model)\n",
        "            val_loss_list_resnet101.append(val_loss)\n",
        "            val_acc_list_resnet101.append(val_acc)\n",
        "\n",
        "\n",
        "            state_dict = model.module.state_dict() if isinstance(model, nn.DataParallel) else model.state_dict()\n",
        "            model_dir = os.path.join('model', task_name)\n",
        "            os.makedirs(model_dir, exist_ok=True)\n",
        "\n",
        "            early_stopping(val_loss, model)\n",
        "\n",
        "            if auc_val > best_auc:\n",
        "                best_auc = auc_val\n",
        "                torch.save(state_dict, os.path.join(model_dir, f'{model_name}_epoch{epoch}.pth'),\n",
        "                           _use_new_zipfile_serialization=False)\n",
        "                print(\"Model saved (best AUC).\")\n",
        "\n",
        "            if early_stopping.early_stop:\n",
        "                print(\"Early stopping triggered.\")\n",
        "                break\n",
        "        except Exception as e:\n",
        "            print(f\"Skipping epoch {epoch} due to error: {e}\")\n",
        "            continue # Skip to the next epoch if an error occurs\n",
        "\n",
        "    # Save the final trained model state dictionary\n",
        "    final_model_path = os.path.join(model_dir, f'{model_name}_final.pth')\n",
        "    state_dict = model.module.state_dict() if isinstance(model, nn.DataParallel) else model.state_dict()\n",
        "    torch.save(state_dict, final_model_path, _use_new_zipfile_serialization=False)\n",
        "    print(f\"Final trained model saved to: {final_model_path}\")\n",
        "\n",
        "    # Save metrics to CSV\n",
        "    log_path = os.path.join('model', task_name, 'training_log.csv')\n",
        "    with open(log_path, 'w', newline='') as f:\n",
        "        writer = csv.writer(f)\n",
        "        writer.writerow(['Epoch', 'Train_Accuracy', 'Val_Accuracy', 'Train_Loss', 'Val_Loss'])\n",
        "        for i in range(len(train_acc_list_resnet101)):\n",
        "            writer.writerow([i + 1, train_acc_list_resnet101[i], val_acc_list_resnet101[i], train_loss_list_resnet101[i], val_loss_list_resnet101[i]])\n",
        "\n",
        "    print(f\"Training log saved to {log_path}\")"
      ],
      "metadata": {
        "id": "KLOdXkOXFslo",
        "colab": {
          "base_uri": "https://localhost:8080/"
        },
        "outputId": "f0cd78a3-bb02-41d1-9b46-3393e3853208"
      },
      "execution_count": 20,
      "outputs": [
        {
          "output_type": "stream",
          "name": "stdout",
          "text": [
            "Removing existing directory: /content/Breast-cancer-dataset/breast_images_pydicom/train\n",
            "Creating directory: /content/Breast-cancer-dataset/breast_images_pydicom/train\n",
            "Removing existing directory: /content/Breast-cancer-dataset/breast_images_pydicom/val\n",
            "Creating directory: /content/Breast-cancer-dataset/breast_images_pydicom/val\n",
            "Data split complete.\n",
            "Resnet101(\n",
            "  (conv1): Conv2d(3, 64, kernel_size=(7, 7), stride=(2, 2), padding=(3, 3), bias=False)\n",
            "  (bn1): BatchNorm2d(64, eps=1e-05, momentum=0.1, affine=True, track_running_stats=True)\n",
            "  (relu): ReLU(inplace=True)\n",
            "  (maxpool): MaxPool2d(kernel_size=3, stride=2, padding=1, dilation=1, ceil_mode=False)\n",
            "  (layer1): Sequential(\n",
            "    (0): Bottleneck(\n",
            "      (conv1): Conv2d(64, 64, kernel_size=(1, 1), stride=(1, 1), bias=False)\n",
            "      (bn1): BatchNorm2d(64, eps=1e-05, momentum=0.1, affine=True, track_running_stats=True)\n",
            "      (conv2): Conv2d(64, 64, kernel_size=(3, 3), stride=(1, 1), padding=(1, 1), bias=False)\n",
            "      (bn2): BatchNorm2d(64, eps=1e-05, momentum=0.1, affine=True, track_running_stats=True)\n",
            "      (conv3): Conv2d(64, 256, kernel_size=(1, 1), stride=(1, 1), bias=False)\n",
            "      (bn3): BatchNorm2d(256, eps=1e-05, momentum=0.1, affine=True, track_running_stats=True)\n",
            "      (relu): ReLU(inplace=True)\n",
            "      (downsample): Sequential(\n",
            "        (0): Conv2d(64, 256, kernel_size=(1, 1), stride=(1, 1), bias=False)\n",
            "        (1): BatchNorm2d(256, eps=1e-05, momentum=0.1, affine=True, track_running_stats=True)\n",
            "      )\n",
            "    )\n",
            "    (1): Bottleneck(\n",
            "      (conv1): Conv2d(256, 64, kernel_size=(1, 1), stride=(1, 1), bias=False)\n",
            "      (bn1): BatchNorm2d(64, eps=1e-05, momentum=0.1, affine=True, track_running_stats=True)\n",
            "      (conv2): Conv2d(64, 64, kernel_size=(3, 3), stride=(1, 1), padding=(1, 1), bias=False)\n",
            "      (bn2): BatchNorm2d(64, eps=1e-05, momentum=0.1, affine=True, track_running_stats=True)\n",
            "      (conv3): Conv2d(64, 256, kernel_size=(1, 1), stride=(1, 1), bias=False)\n",
            "      (bn3): BatchNorm2d(256, eps=1e-05, momentum=0.1, affine=True, track_running_stats=True)\n",
            "      (relu): ReLU(inplace=True)\n",
            "    )\n",
            "    (2): Bottleneck(\n",
            "      (conv1): Conv2d(256, 64, kernel_size=(1, 1), stride=(1, 1), bias=False)\n",
            "      (bn1): BatchNorm2d(64, eps=1e-05, momentum=0.1, affine=True, track_running_stats=True)\n",
            "      (conv2): Conv2d(64, 64, kernel_size=(3, 3), stride=(1, 1), padding=(1, 1), bias=False)\n",
            "      (bn2): BatchNorm2d(64, eps=1e-05, momentum=0.1, affine=True, track_running_stats=True)\n",
            "      (conv3): Conv2d(64, 256, kernel_size=(1, 1), stride=(1, 1), bias=False)\n",
            "      (bn3): BatchNorm2d(256, eps=1e-05, momentum=0.1, affine=True, track_running_stats=True)\n",
            "      (relu): ReLU(inplace=True)\n",
            "    )\n",
            "  )\n",
            "  (layer2): Sequential(\n",
            "    (0): Bottleneck(\n",
            "      (conv1): Conv2d(256, 128, kernel_size=(1, 1), stride=(1, 1), bias=False)\n",
            "      (bn1): BatchNorm2d(128, eps=1e-05, momentum=0.1, affine=True, track_running_stats=True)\n",
            "      (conv2): Conv2d(128, 128, kernel_size=(3, 3), stride=(2, 2), padding=(1, 1), bias=False)\n",
            "      (bn2): BatchNorm2d(128, eps=1e-05, momentum=0.1, affine=True, track_running_stats=True)\n",
            "      (conv3): Conv2d(128, 512, kernel_size=(1, 1), stride=(1, 1), bias=False)\n",
            "      (bn3): BatchNorm2d(512, eps=1e-05, momentum=0.1, affine=True, track_running_stats=True)\n",
            "      (relu): ReLU(inplace=True)\n",
            "      (downsample): Sequential(\n",
            "        (0): Conv2d(256, 512, kernel_size=(1, 1), stride=(2, 2), bias=False)\n",
            "        (1): BatchNorm2d(512, eps=1e-05, momentum=0.1, affine=True, track_running_stats=True)\n",
            "      )\n",
            "    )\n",
            "    (1): Bottleneck(\n",
            "      (conv1): Conv2d(512, 128, kernel_size=(1, 1), stride=(1, 1), bias=False)\n",
            "      (bn1): BatchNorm2d(128, eps=1e-05, momentum=0.1, affine=True, track_running_stats=True)\n",
            "      (conv2): Conv2d(128, 128, kernel_size=(3, 3), stride=(1, 1), padding=(1, 1), bias=False)\n",
            "      (bn2): BatchNorm2d(128, eps=1e-05, momentum=0.1, affine=True, track_running_stats=True)\n",
            "      (conv3): Conv2d(128, 512, kernel_size=(1, 1), stride=(1, 1), bias=False)\n",
            "      (bn3): BatchNorm2d(512, eps=1e-05, momentum=0.1, affine=True, track_running_stats=True)\n",
            "      (relu): ReLU(inplace=True)\n",
            "    )\n",
            "    (2): Bottleneck(\n",
            "      (conv1): Conv2d(512, 128, kernel_size=(1, 1), stride=(1, 1), bias=False)\n",
            "      (bn1): BatchNorm2d(128, eps=1e-05, momentum=0.1, affine=True, track_running_stats=True)\n",
            "      (conv2): Conv2d(128, 128, kernel_size=(3, 3), stride=(1, 1), padding=(1, 1), bias=False)\n",
            "      (bn2): BatchNorm2d(128, eps=1e-05, momentum=0.1, affine=True, track_running_stats=True)\n",
            "      (conv3): Conv2d(128, 512, kernel_size=(1, 1), stride=(1, 1), bias=False)\n",
            "      (bn3): BatchNorm2d(512, eps=1e-05, momentum=0.1, affine=True, track_running_stats=True)\n",
            "      (relu): ReLU(inplace=True)\n",
            "    )\n",
            "    (3): Bottleneck(\n",
            "      (conv1): Conv2d(512, 128, kernel_size=(1, 1), stride=(1, 1), bias=False)\n",
            "      (bn1): BatchNorm2d(128, eps=1e-05, momentum=0.1, affine=True, track_running_stats=True)\n",
            "      (conv2): Conv2d(128, 128, kernel_size=(3, 3), stride=(1, 1), padding=(1, 1), bias=False)\n",
            "      (bn2): BatchNorm2d(128, eps=1e-05, momentum=0.1, affine=True, track_running_stats=True)\n",
            "      (conv3): Conv2d(128, 512, kernel_size=(1, 1), stride=(1, 1), bias=False)\n",
            "      (bn3): BatchNorm2d(512, eps=1e-05, momentum=0.1, affine=True, track_running_stats=True)\n",
            "      (relu): ReLU(inplace=True)\n",
            "    )\n",
            "  )\n",
            "  (layer3): Sequential(\n",
            "    (0): Bottleneck(\n",
            "      (conv1): Conv2d(512, 256, kernel_size=(1, 1), stride=(1, 1), bias=False)\n",
            "      (bn1): BatchNorm2d(256, eps=1e-05, momentum=0.1, affine=True, track_running_stats=True)\n",
            "      (conv2): Conv2d(256, 256, kernel_size=(3, 3), stride=(2, 2), padding=(1, 1), bias=False)\n",
            "      (bn2): BatchNorm2d(256, eps=1e-05, momentum=0.1, affine=True, track_running_stats=True)\n",
            "      (conv3): Conv2d(256, 1024, kernel_size=(1, 1), stride=(1, 1), bias=False)\n",
            "      (bn3): BatchNorm2d(1024, eps=1e-05, momentum=0.1, affine=True, track_running_stats=True)\n",
            "      (relu): ReLU(inplace=True)\n",
            "      (downsample): Sequential(\n",
            "        (0): Conv2d(512, 1024, kernel_size=(1, 1), stride=(2, 2), bias=False)\n",
            "        (1): BatchNorm2d(1024, eps=1e-05, momentum=0.1, affine=True, track_running_stats=True)\n",
            "      )\n",
            "    )\n",
            "    (1): Bottleneck(\n",
            "      (conv1): Conv2d(1024, 256, kernel_size=(1, 1), stride=(1, 1), bias=False)\n",
            "      (bn1): BatchNorm2d(256, eps=1e-05, momentum=0.1, affine=True, track_running_stats=True)\n",
            "      (conv2): Conv2d(256, 256, kernel_size=(3, 3), stride=(1, 1), padding=(1, 1), bias=False)\n",
            "      (bn2): BatchNorm2d(256, eps=1e-05, momentum=0.1, affine=True, track_running_stats=True)\n",
            "      (conv3): Conv2d(256, 1024, kernel_size=(1, 1), stride=(1, 1), bias=False)\n",
            "      (bn3): BatchNorm2d(1024, eps=1e-05, momentum=0.1, affine=True, track_running_stats=True)\n",
            "      (relu): ReLU(inplace=True)\n",
            "    )\n",
            "    (2): Bottleneck(\n",
            "      (conv1): Conv2d(1024, 256, kernel_size=(1, 1), stride=(1, 1), bias=False)\n",
            "      (bn1): BatchNorm2d(256, eps=1e-05, momentum=0.1, affine=True, track_running_stats=True)\n",
            "      (conv2): Conv2d(256, 256, kernel_size=(3, 3), stride=(1, 1), padding=(1, 1), bias=False)\n",
            "      (bn2): BatchNorm2d(256, eps=1e-05, momentum=0.1, affine=True, track_running_stats=True)\n",
            "      (conv3): Conv2d(256, 1024, kernel_size=(1, 1), stride=(1, 1), bias=False)\n",
            "      (bn3): BatchNorm2d(1024, eps=1e-05, momentum=0.1, affine=True, track_running_stats=True)\n",
            "      (relu): ReLU(inplace=True)\n",
            "    )\n",
            "    (3): Bottleneck(\n",
            "      (conv1): Conv2d(1024, 256, kernel_size=(1, 1), stride=(1, 1), bias=False)\n",
            "      (bn1): BatchNorm2d(256, eps=1e-05, momentum=0.1, affine=True, track_running_stats=True)\n",
            "      (conv2): Conv2d(256, 256, kernel_size=(3, 3), stride=(1, 1), padding=(1, 1), bias=False)\n",
            "      (bn2): BatchNorm2d(256, eps=1e-05, momentum=0.1, affine=True, track_running_stats=True)\n",
            "      (conv3): Conv2d(256, 1024, kernel_size=(1, 1), stride=(1, 1), bias=False)\n",
            "      (bn3): BatchNorm2d(1024, eps=1e-05, momentum=0.1, affine=True, track_running_stats=True)\n",
            "      (relu): ReLU(inplace=True)\n",
            "    )\n",
            "    (4): Bottleneck(\n",
            "      (conv1): Conv2d(1024, 256, kernel_size=(1, 1), stride=(1, 1), bias=False)\n",
            "      (bn1): BatchNorm2d(256, eps=1e-05, momentum=0.1, affine=True, track_running_stats=True)\n",
            "      (conv2): Conv2d(256, 256, kernel_size=(3, 3), stride=(1, 1), padding=(1, 1), bias=False)\n",
            "      (bn2): BatchNorm2d(256, eps=1e-05, momentum=0.1, affine=True, track_running_stats=True)\n",
            "      (conv3): Conv2d(256, 1024, kernel_size=(1, 1), stride=(1, 1), bias=False)\n",
            "      (bn3): BatchNorm2d(1024, eps=1e-05, momentum=0.1, affine=True, track_running_stats=True)\n",
            "      (relu): ReLU(inplace=True)\n",
            "    )\n",
            "    (5): Bottleneck(\n",
            "      (conv1): Conv2d(1024, 256, kernel_size=(1, 1), stride=(1, 1), bias=False)\n",
            "      (bn1): BatchNorm2d(256, eps=1e-05, momentum=0.1, affine=True, track_running_stats=True)\n",
            "      (conv2): Conv2d(256, 256, kernel_size=(3, 3), stride=(1, 1), padding=(1, 1), bias=False)\n",
            "      (bn2): BatchNorm2d(256, eps=1e-05, momentum=0.1, affine=True, track_running_stats=True)\n",
            "      (conv3): Conv2d(256, 1024, kernel_size=(1, 1), stride=(1, 1), bias=False)\n",
            "      (bn3): BatchNorm2d(1024, eps=1e-05, momentum=0.1, affine=True, track_running_stats=True)\n",
            "      (relu): ReLU(inplace=True)\n",
            "    )\n",
            "    (6): Bottleneck(\n",
            "      (conv1): Conv2d(1024, 256, kernel_size=(1, 1), stride=(1, 1), bias=False)\n",
            "      (bn1): BatchNorm2d(256, eps=1e-05, momentum=0.1, affine=True, track_running_stats=True)\n",
            "      (conv2): Conv2d(256, 256, kernel_size=(3, 3), stride=(1, 1), padding=(1, 1), bias=False)\n",
            "      (bn2): BatchNorm2d(256, eps=1e-05, momentum=0.1, affine=True, track_running_stats=True)\n",
            "      (conv3): Conv2d(256, 1024, kernel_size=(1, 1), stride=(1, 1), bias=False)\n",
            "      (bn3): BatchNorm2d(1024, eps=1e-05, momentum=0.1, affine=True, track_running_stats=True)\n",
            "      (relu): ReLU(inplace=True)\n",
            "    )\n",
            "    (7): Bottleneck(\n",
            "      (conv1): Conv2d(1024, 256, kernel_size=(1, 1), stride=(1, 1), bias=False)\n",
            "      (bn1): BatchNorm2d(256, eps=1e-05, momentum=0.1, affine=True, track_running_stats=True)\n",
            "      (conv2): Conv2d(256, 256, kernel_size=(3, 3), stride=(1, 1), padding=(1, 1), bias=False)\n",
            "      (bn2): BatchNorm2d(256, eps=1e-05, momentum=0.1, affine=True, track_running_stats=True)\n",
            "      (conv3): Conv2d(256, 1024, kernel_size=(1, 1), stride=(1, 1), bias=False)\n",
            "      (bn3): BatchNorm2d(1024, eps=1e-05, momentum=0.1, affine=True, track_running_stats=True)\n",
            "      (relu): ReLU(inplace=True)\n",
            "    )\n",
            "    (8): Bottleneck(\n",
            "      (conv1): Conv2d(1024, 256, kernel_size=(1, 1), stride=(1, 1), bias=False)\n",
            "      (bn1): BatchNorm2d(256, eps=1e-05, momentum=0.1, affine=True, track_running_stats=True)\n",
            "      (conv2): Conv2d(256, 256, kernel_size=(3, 3), stride=(1, 1), padding=(1, 1), bias=False)\n",
            "      (bn2): BatchNorm2d(256, eps=1e-05, momentum=0.1, affine=True, track_running_stats=True)\n",
            "      (conv3): Conv2d(256, 1024, kernel_size=(1, 1), stride=(1, 1), bias=False)\n",
            "      (bn3): BatchNorm2d(1024, eps=1e-05, momentum=0.1, affine=True, track_running_stats=True)\n",
            "      (relu): ReLU(inplace=True)\n",
            "    )\n",
            "    (9): Bottleneck(\n",
            "      (conv1): Conv2d(1024, 256, kernel_size=(1, 1), stride=(1, 1), bias=False)\n",
            "      (bn1): BatchNorm2d(256, eps=1e-05, momentum=0.1, affine=True, track_running_stats=True)\n",
            "      (conv2): Conv2d(256, 256, kernel_size=(3, 3), stride=(1, 1), padding=(1, 1), bias=False)\n",
            "      (bn2): BatchNorm2d(256, eps=1e-05, momentum=0.1, affine=True, track_running_stats=True)\n",
            "      (conv3): Conv2d(256, 1024, kernel_size=(1, 1), stride=(1, 1), bias=False)\n",
            "      (bn3): BatchNorm2d(1024, eps=1e-05, momentum=0.1, affine=True, track_running_stats=True)\n",
            "      (relu): ReLU(inplace=True)\n",
            "    )\n",
            "    (10): Bottleneck(\n",
            "      (conv1): Conv2d(1024, 256, kernel_size=(1, 1), stride=(1, 1), bias=False)\n",
            "      (bn1): BatchNorm2d(256, eps=1e-05, momentum=0.1, affine=True, track_running_stats=True)\n",
            "      (conv2): Conv2d(256, 256, kernel_size=(3, 3), stride=(1, 1), padding=(1, 1), bias=False)\n",
            "      (bn2): BatchNorm2d(256, eps=1e-05, momentum=0.1, affine=True, track_running_stats=True)\n",
            "      (conv3): Conv2d(256, 1024, kernel_size=(1, 1), stride=(1, 1), bias=False)\n",
            "      (bn3): BatchNorm2d(1024, eps=1e-05, momentum=0.1, affine=True, track_running_stats=True)\n",
            "      (relu): ReLU(inplace=True)\n",
            "    )\n",
            "    (11): Bottleneck(\n",
            "      (conv1): Conv2d(1024, 256, kernel_size=(1, 1), stride=(1, 1), bias=False)\n",
            "      (bn1): BatchNorm2d(256, eps=1e-05, momentum=0.1, affine=True, track_running_stats=True)\n",
            "      (conv2): Conv2d(256, 256, kernel_size=(3, 3), stride=(1, 1), padding=(1, 1), bias=False)\n",
            "      (bn2): BatchNorm2d(256, eps=1e-05, momentum=0.1, affine=True, track_running_stats=True)\n",
            "      (conv3): Conv2d(256, 1024, kernel_size=(1, 1), stride=(1, 1), bias=False)\n",
            "      (bn3): BatchNorm2d(1024, eps=1e-05, momentum=0.1, affine=True, track_running_stats=True)\n",
            "      (relu): ReLU(inplace=True)\n",
            "    )\n",
            "    (12): Bottleneck(\n",
            "      (conv1): Conv2d(1024, 256, kernel_size=(1, 1), stride=(1, 1), bias=False)\n",
            "      (bn1): BatchNorm2d(256, eps=1e-05, momentum=0.1, affine=True, track_running_stats=True)\n",
            "      (conv2): Conv2d(256, 256, kernel_size=(3, 3), stride=(1, 1), padding=(1, 1), bias=False)\n",
            "      (bn2): BatchNorm2d(256, eps=1e-05, momentum=0.1, affine=True, track_running_stats=True)\n",
            "      (conv3): Conv2d(256, 1024, kernel_size=(1, 1), stride=(1, 1), bias=False)\n",
            "      (bn3): BatchNorm2d(1024, eps=1e-05, momentum=0.1, affine=True, track_running_stats=True)\n",
            "      (relu): ReLU(inplace=True)\n",
            "    )\n",
            "    (13): Bottleneck(\n",
            "      (conv1): Conv2d(1024, 256, kernel_size=(1, 1), stride=(1, 1), bias=False)\n",
            "      (bn1): BatchNorm2d(256, eps=1e-05, momentum=0.1, affine=True, track_running_stats=True)\n",
            "      (conv2): Conv2d(256, 256, kernel_size=(3, 3), stride=(1, 1), padding=(1, 1), bias=False)\n",
            "      (bn2): BatchNorm2d(256, eps=1e-05, momentum=0.1, affine=True, track_running_stats=True)\n",
            "      (conv3): Conv2d(256, 1024, kernel_size=(1, 1), stride=(1, 1), bias=False)\n",
            "      (bn3): BatchNorm2d(1024, eps=1e-05, momentum=0.1, affine=True, track_running_stats=True)\n",
            "      (relu): ReLU(inplace=True)\n",
            "    )\n",
            "    (14): Bottleneck(\n",
            "      (conv1): Conv2d(1024, 256, kernel_size=(1, 1), stride=(1, 1), bias=False)\n",
            "      (bn1): BatchNorm2d(256, eps=1e-05, momentum=0.1, affine=True, track_running_stats=True)\n",
            "      (conv2): Conv2d(256, 256, kernel_size=(3, 3), stride=(1, 1), padding=(1, 1), bias=False)\n",
            "      (bn2): BatchNorm2d(256, eps=1e-05, momentum=0.1, affine=True, track_running_stats=True)\n",
            "      (conv3): Conv2d(256, 1024, kernel_size=(1, 1), stride=(1, 1), bias=False)\n",
            "      (bn3): BatchNorm2d(1024, eps=1e-05, momentum=0.1, affine=True, track_running_stats=True)\n",
            "      (relu): ReLU(inplace=True)\n",
            "    )\n",
            "    (15): Bottleneck(\n",
            "      (conv1): Conv2d(1024, 256, kernel_size=(1, 1), stride=(1, 1), bias=False)\n",
            "      (bn1): BatchNorm2d(256, eps=1e-05, momentum=0.1, affine=True, track_running_stats=True)\n",
            "      (conv2): Conv2d(256, 256, kernel_size=(3, 3), stride=(1, 1), padding=(1, 1), bias=False)\n",
            "      (bn2): BatchNorm2d(256, eps=1e-05, momentum=0.1, affine=True, track_running_stats=True)\n",
            "      (conv3): Conv2d(256, 1024, kernel_size=(1, 1), stride=(1, 1), bias=False)\n",
            "      (bn3): BatchNorm2d(1024, eps=1e-05, momentum=0.1, affine=True, track_running_stats=True)\n",
            "      (relu): ReLU(inplace=True)\n",
            "    )\n",
            "    (16): Bottleneck(\n",
            "      (conv1): Conv2d(1024, 256, kernel_size=(1, 1), stride=(1, 1), bias=False)\n",
            "      (bn1): BatchNorm2d(256, eps=1e-05, momentum=0.1, affine=True, track_running_stats=True)\n",
            "      (conv2): Conv2d(256, 256, kernel_size=(3, 3), stride=(1, 1), padding=(1, 1), bias=False)\n",
            "      (bn2): BatchNorm2d(256, eps=1e-05, momentum=0.1, affine=True, track_running_stats=True)\n",
            "      (conv3): Conv2d(256, 1024, kernel_size=(1, 1), stride=(1, 1), bias=False)\n",
            "      (bn3): BatchNorm2d(1024, eps=1e-05, momentum=0.1, affine=True, track_running_stats=True)\n",
            "      (relu): ReLU(inplace=True)\n",
            "    )\n",
            "    (17): Bottleneck(\n",
            "      (conv1): Conv2d(1024, 256, kernel_size=(1, 1), stride=(1, 1), bias=False)\n",
            "      (bn1): BatchNorm2d(256, eps=1e-05, momentum=0.1, affine=True, track_running_stats=True)\n",
            "      (conv2): Conv2d(256, 256, kernel_size=(3, 3), stride=(1, 1), padding=(1, 1), bias=False)\n",
            "      (bn2): BatchNorm2d(256, eps=1e-05, momentum=0.1, affine=True, track_running_stats=True)\n",
            "      (conv3): Conv2d(256, 1024, kernel_size=(1, 1), stride=(1, 1), bias=False)\n",
            "      (bn3): BatchNorm2d(1024, eps=1e-05, momentum=0.1, affine=True, track_running_stats=True)\n",
            "      (relu): ReLU(inplace=True)\n",
            "    )\n",
            "    (18): Bottleneck(\n",
            "      (conv1): Conv2d(1024, 256, kernel_size=(1, 1), stride=(1, 1), bias=False)\n",
            "      (bn1): BatchNorm2d(256, eps=1e-05, momentum=0.1, affine=True, track_running_stats=True)\n",
            "      (conv2): Conv2d(256, 256, kernel_size=(3, 3), stride=(1, 1), padding=(1, 1), bias=False)\n",
            "      (bn2): BatchNorm2d(256, eps=1e-05, momentum=0.1, affine=True, track_running_stats=True)\n",
            "      (conv3): Conv2d(256, 1024, kernel_size=(1, 1), stride=(1, 1), bias=False)\n",
            "      (bn3): BatchNorm2d(1024, eps=1e-05, momentum=0.1, affine=True, track_running_stats=True)\n",
            "      (relu): ReLU(inplace=True)\n",
            "    )\n",
            "    (19): Bottleneck(\n",
            "      (conv1): Conv2d(1024, 256, kernel_size=(1, 1), stride=(1, 1), bias=False)\n",
            "      (bn1): BatchNorm2d(256, eps=1e-05, momentum=0.1, affine=True, track_running_stats=True)\n",
            "      (conv2): Conv2d(256, 256, kernel_size=(3, 3), stride=(1, 1), padding=(1, 1), bias=False)\n",
            "      (bn2): BatchNorm2d(256, eps=1e-05, momentum=0.1, affine=True, track_running_stats=True)\n",
            "      (conv3): Conv2d(256, 1024, kernel_size=(1, 1), stride=(1, 1), bias=False)\n",
            "      (bn3): BatchNorm2d(1024, eps=1e-05, momentum=0.1, affine=True, track_running_stats=True)\n",
            "      (relu): ReLU(inplace=True)\n",
            "    )\n",
            "    (20): Bottleneck(\n",
            "      (conv1): Conv2d(1024, 256, kernel_size=(1, 1), stride=(1, 1), bias=False)\n",
            "      (bn1): BatchNorm2d(256, eps=1e-05, momentum=0.1, affine=True, track_running_stats=True)\n",
            "      (conv2): Conv2d(256, 256, kernel_size=(3, 3), stride=(1, 1), padding=(1, 1), bias=False)\n",
            "      (bn2): BatchNorm2d(256, eps=1e-05, momentum=0.1, affine=True, track_running_stats=True)\n",
            "      (conv3): Conv2d(256, 1024, kernel_size=(1, 1), stride=(1, 1), bias=False)\n",
            "      (bn3): BatchNorm2d(1024, eps=1e-05, momentum=0.1, affine=True, track_running_stats=True)\n",
            "      (relu): ReLU(inplace=True)\n",
            "    )\n",
            "    (21): Bottleneck(\n",
            "      (conv1): Conv2d(1024, 256, kernel_size=(1, 1), stride=(1, 1), bias=False)\n",
            "      (bn1): BatchNorm2d(256, eps=1e-05, momentum=0.1, affine=True, track_running_stats=True)\n",
            "      (conv2): Conv2d(256, 256, kernel_size=(3, 3), stride=(1, 1), padding=(1, 1), bias=False)\n",
            "      (bn2): BatchNorm2d(256, eps=1e-05, momentum=0.1, affine=True, track_running_stats=True)\n",
            "      (conv3): Conv2d(256, 1024, kernel_size=(1, 1), stride=(1, 1), bias=False)\n",
            "      (bn3): BatchNorm2d(1024, eps=1e-05, momentum=0.1, affine=True, track_running_stats=True)\n",
            "      (relu): ReLU(inplace=True)\n",
            "    )\n",
            "    (22): Bottleneck(\n",
            "      (conv1): Conv2d(1024, 256, kernel_size=(1, 1), stride=(1, 1), bias=False)\n",
            "      (bn1): BatchNorm2d(256, eps=1e-05, momentum=0.1, affine=True, track_running_stats=True)\n",
            "      (conv2): Conv2d(256, 256, kernel_size=(3, 3), stride=(1, 1), padding=(1, 1), bias=False)\n",
            "      (bn2): BatchNorm2d(256, eps=1e-05, momentum=0.1, affine=True, track_running_stats=True)\n",
            "      (conv3): Conv2d(256, 1024, kernel_size=(1, 1), stride=(1, 1), bias=False)\n",
            "      (bn3): BatchNorm2d(1024, eps=1e-05, momentum=0.1, affine=True, track_running_stats=True)\n",
            "      (relu): ReLU(inplace=True)\n",
            "    )\n",
            "  )\n",
            "  (layer4): Sequential(\n",
            "    (0): Bottleneck(\n",
            "      (conv1): Conv2d(1024, 512, kernel_size=(1, 1), stride=(1, 1), bias=False)\n",
            "      (bn1): BatchNorm2d(512, eps=1e-05, momentum=0.1, affine=True, track_running_stats=True)\n",
            "      (conv2): Conv2d(512, 512, kernel_size=(3, 3), stride=(2, 2), padding=(1, 1), bias=False)\n",
            "      (bn2): BatchNorm2d(512, eps=1e-05, momentum=0.1, affine=True, track_running_stats=True)\n",
            "      (conv3): Conv2d(512, 2048, kernel_size=(1, 1), stride=(1, 1), bias=False)\n",
            "      (bn3): BatchNorm2d(2048, eps=1e-05, momentum=0.1, affine=True, track_running_stats=True)\n",
            "      (relu): ReLU(inplace=True)\n",
            "      (downsample): Sequential(\n",
            "        (0): Conv2d(1024, 2048, kernel_size=(1, 1), stride=(2, 2), bias=False)\n",
            "        (1): BatchNorm2d(2048, eps=1e-05, momentum=0.1, affine=True, track_running_stats=True)\n",
            "      )\n",
            "    )\n",
            "    (1): Bottleneck(\n",
            "      (conv1): Conv2d(2048, 512, kernel_size=(1, 1), stride=(1, 1), bias=False)\n",
            "      (bn1): BatchNorm2d(512, eps=1e-05, momentum=0.1, affine=True, track_running_stats=True)\n",
            "      (conv2): Conv2d(512, 512, kernel_size=(3, 3), stride=(1, 1), padding=(1, 1), bias=False)\n",
            "      (bn2): BatchNorm2d(512, eps=1e-05, momentum=0.1, affine=True, track_running_stats=True)\n",
            "      (conv3): Conv2d(512, 2048, kernel_size=(1, 1), stride=(1, 1), bias=False)\n",
            "      (bn3): BatchNorm2d(2048, eps=1e-05, momentum=0.1, affine=True, track_running_stats=True)\n",
            "      (relu): ReLU(inplace=True)\n",
            "    )\n",
            "    (2): Bottleneck(\n",
            "      (conv1): Conv2d(2048, 512, kernel_size=(1, 1), stride=(1, 1), bias=False)\n",
            "      (bn1): BatchNorm2d(512, eps=1e-05, momentum=0.1, affine=True, track_running_stats=True)\n",
            "      (conv2): Conv2d(512, 512, kernel_size=(3, 3), stride=(1, 1), padding=(1, 1), bias=False)\n",
            "      (bn2): BatchNorm2d(512, eps=1e-05, momentum=0.1, affine=True, track_running_stats=True)\n",
            "      (conv3): Conv2d(512, 2048, kernel_size=(1, 1), stride=(1, 1), bias=False)\n",
            "      (bn3): BatchNorm2d(2048, eps=1e-05, momentum=0.1, affine=True, track_running_stats=True)\n",
            "      (relu): ReLU(inplace=True)\n",
            "    )\n",
            "  )\n",
            "  (avgpool): AdaptiveAvgPool2d(output_size=(1, 1))\n",
            "  (fc): Linear(in_features=2048, out_features=2, bias=True)\n",
            ")\n",
            "Starting training epoch 1...\n",
            "  Processing batch 0...\n",
            "    Batch loss: 0.6866, Correct predictions in batch: 15\n",
            "  Processing batch 1...\n",
            "    Batch loss: 0.8499, Correct predictions in batch: 17\n",
            "  Processing batch 2...\n",
            "    Batch loss: 0.5851, Correct predictions in batch: 27\n",
            "  Processing batch 3...\n",
            "    Batch loss: 0.7297, Correct predictions in batch: 18\n",
            "Train Epoch 1: Total Loss 91.2433, Avg Loss 0.6165 | Correct 77 | Accuracy 52.03% | LR 0.01\n",
            "Starting validation...\n",
            "  Processing validation batch 0...\n",
            "    Validation batch loss: 7.6063, Correct predictions in batch: 32\n",
            "  Processing validation batch 1...\n",
            "    Validation batch loss: 6.5027, Correct predictions in batch: 32\n",
            "  Processing validation batch 2...\n",
            "    Validation batch loss: 28.9262, Correct predictions in batch: 10\n",
            "  Processing validation batch 3...\n",
            "    Validation batch loss: 37.7765, Correct predictions in batch: 0\n",
            "  Processing validation batch 4...\n",
            "    Validation batch loss: 26.3804, Correct predictions in batch: 0\n",
            "val set: Avg Loss 0.7243 | Accuracy 50.00% | AUC 0.6696\n",
            "Validation loss decreased (inf --> 0.724271).  Saving model ...\n",
            "Model saved (best AUC).\n",
            "Starting training epoch 2...\n"
          ]
        },
        {
          "output_type": "stream",
          "name": "stderr",
          "text": [
            "/usr/local/lib/python3.12/dist-packages/torch/utils/data/dataloader.py:627: UserWarning: This DataLoader will create 4 worker processes in total. Our suggested max number of worker in current system is 2, which is smaller than what this DataLoader is going to create. Please be aware that excessive worker creation might get DataLoader running slow or even freeze, lower the worker number to avoid potential slowness/freeze if necessary.\n",
            "  warnings.warn(\n"
          ]
        },
        {
          "output_type": "stream",
          "name": "stdout",
          "text": [
            "  Processing batch 0...\n",
            "    Batch loss: 0.5732, Correct predictions in batch: 23\n",
            "  Processing batch 1...\n",
            "    Batch loss: 0.7404, Correct predictions in batch: 17\n",
            "  Processing batch 2...\n",
            "    Batch loss: 0.5945, Correct predictions in batch: 20\n",
            "  Processing batch 3...\n",
            "    Batch loss: 0.4533, Correct predictions in batch: 27\n",
            "Train Epoch 2: Total Loss 75.5596, Avg Loss 0.5105 | Correct 87 | Accuracy 58.78% | LR 0.01\n",
            "Starting validation...\n",
            "  Processing validation batch 0...\n",
            "    Validation batch loss: 4.1219, Correct predictions in batch: 32\n",
            "  Processing validation batch 1...\n",
            "    Validation batch loss: 4.6171, Correct predictions in batch: 32\n",
            "  Processing validation batch 2...\n",
            "    Validation batch loss: 27.4229, Correct predictions in batch: 14\n",
            "  Processing validation batch 3...\n",
            "    Validation batch loss: 25.4665, Correct predictions in batch: 9\n",
            "  Processing validation batch 4...\n",
            "    Validation batch loss: 24.5696, Correct predictions in batch: 0\n",
            "val set: Avg Loss 0.5824 | Accuracy 58.78% | AUC 0.7598\n",
            "Validation loss decreased (0.724271 --> 0.582419).  Saving model ...\n",
            "Model saved (best AUC).\n",
            "Starting training epoch 3...\n"
          ]
        },
        {
          "output_type": "stream",
          "name": "stderr",
          "text": [
            "/usr/local/lib/python3.12/dist-packages/torch/utils/data/dataloader.py:627: UserWarning: This DataLoader will create 4 worker processes in total. Our suggested max number of worker in current system is 2, which is smaller than what this DataLoader is going to create. Please be aware that excessive worker creation might get DataLoader running slow or even freeze, lower the worker number to avoid potential slowness/freeze if necessary.\n",
            "  warnings.warn(\n"
          ]
        },
        {
          "output_type": "stream",
          "name": "stdout",
          "text": [
            "  Processing batch 0...\n",
            "    Batch loss: 0.4001, Correct predictions in batch: 27\n",
            "  Processing batch 1...\n",
            "    Batch loss: 0.4627, Correct predictions in batch: 24\n",
            "  Processing batch 2...\n",
            "    Batch loss: 0.2834, Correct predictions in batch: 30\n",
            "  Processing batch 3...\n",
            "    Batch loss: 0.4263, Correct predictions in batch: 26\n",
            "Train Epoch 3: Total Loss 50.3185, Avg Loss 0.3400 | Correct 107 | Accuracy 72.30% | LR 0.01\n",
            "Starting validation...\n",
            "  Processing validation batch 0...\n",
            "    Validation batch loss: 2.6646, Correct predictions in batch: 32\n",
            "  Processing validation batch 1...\n",
            "    Validation batch loss: 3.1346, Correct predictions in batch: 32\n",
            "  Processing validation batch 2...\n",
            "    Validation batch loss: 24.3265, Correct predictions in batch: 19\n",
            "  Processing validation batch 3...\n",
            "    Validation batch loss: 14.8339, Correct predictions in batch: 26\n",
            "  Processing validation batch 4...\n",
            "    Validation batch loss: 21.7536, Correct predictions in batch: 5\n",
            "val set: Avg Loss 0.4508 | Accuracy 77.03% | AUC 0.8661\n",
            "Validation loss decreased (0.582419 --> 0.450765).  Saving model ...\n",
            "Model saved (best AUC).\n",
            "Starting training epoch 4...\n"
          ]
        },
        {
          "output_type": "stream",
          "name": "stderr",
          "text": [
            "/usr/local/lib/python3.12/dist-packages/torch/utils/data/dataloader.py:627: UserWarning: This DataLoader will create 4 worker processes in total. Our suggested max number of worker in current system is 2, which is smaller than what this DataLoader is going to create. Please be aware that excessive worker creation might get DataLoader running slow or even freeze, lower the worker number to avoid potential slowness/freeze if necessary.\n",
            "  warnings.warn(\n"
          ]
        },
        {
          "output_type": "stream",
          "name": "stdout",
          "text": [
            "  Processing batch 0...\n",
            "    Batch loss: 0.2067, Correct predictions in batch: 30\n",
            "  Processing batch 1...\n",
            "    Batch loss: 0.1914, Correct predictions in batch: 30\n",
            "  Processing batch 2...\n",
            "    Batch loss: 0.2289, Correct predictions in batch: 31\n",
            "  Processing batch 3...\n",
            "    Batch loss: 0.2801, Correct predictions in batch: 30\n",
            "Train Epoch 4: Total Loss 29.0278, Avg Loss 0.1961 | Correct 121 | Accuracy 81.76% | LR 0.01\n",
            "Starting validation...\n",
            "  Processing validation batch 0...\n",
            "    Validation batch loss: 1.7987, Correct predictions in batch: 32\n",
            "  Processing validation batch 1...\n",
            "    Validation batch loss: 1.4679, Correct predictions in batch: 32\n",
            "  Processing validation batch 2...\n",
            "    Validation batch loss: 22.0764, Correct predictions in batch: 18\n",
            "  Processing validation batch 3...\n",
            "    Validation batch loss: 16.3404, Correct predictions in batch: 25\n",
            "  Processing validation batch 4...\n",
            "    Validation batch loss: 17.6253, Correct predictions in batch: 10\n",
            "val set: Avg Loss 0.4007 | Accuracy 79.05% | AUC 0.8955\n",
            "Validation loss decreased (0.450765 --> 0.400734).  Saving model ...\n",
            "Model saved (best AUC).\n",
            "Starting training epoch 5...\n"
          ]
        },
        {
          "output_type": "stream",
          "name": "stderr",
          "text": [
            "/usr/local/lib/python3.12/dist-packages/torch/utils/data/dataloader.py:627: UserWarning: This DataLoader will create 4 worker processes in total. Our suggested max number of worker in current system is 2, which is smaller than what this DataLoader is going to create. Please be aware that excessive worker creation might get DataLoader running slow or even freeze, lower the worker number to avoid potential slowness/freeze if necessary.\n",
            "  warnings.warn(\n"
          ]
        },
        {
          "output_type": "stream",
          "name": "stdout",
          "text": [
            "  Processing batch 0...\n",
            "    Batch loss: 0.2828, Correct predictions in batch: 29\n",
            "  Processing batch 1...\n",
            "    Batch loss: 0.1503, Correct predictions in batch: 30\n",
            "  Processing batch 2...\n",
            "    Batch loss: 0.4205, Correct predictions in batch: 28\n",
            "  Processing batch 3...\n",
            "    Batch loss: 0.3275, Correct predictions in batch: 26\n",
            "Train Epoch 5: Total Loss 37.7939, Avg Loss 0.2554 | Correct 113 | Accuracy 76.35% | LR 0.01\n",
            "Starting validation...\n",
            "  Processing validation batch 0...\n",
            "    Validation batch loss: 0.3433, Correct predictions in batch: 32\n",
            "  Processing validation batch 1...\n",
            "    Validation batch loss: 0.1718, Correct predictions in batch: 32\n",
            "  Processing validation batch 2...\n",
            "    Validation batch loss: 44.3111, Correct predictions in batch: 18\n",
            "  Processing validation batch 3...\n",
            "    Validation batch loss: 40.2772, Correct predictions in batch: 16\n",
            "  Processing validation batch 4...\n",
            "    Validation batch loss: 27.7391, Correct predictions in batch: 7\n",
            "val set: Avg Loss 0.7624 | Accuracy 70.95% | AUC 0.8018\n",
            "EarlyStopping counter: 1 out of 20\n",
            "Starting training epoch 6...\n"
          ]
        },
        {
          "output_type": "stream",
          "name": "stderr",
          "text": [
            "/usr/local/lib/python3.12/dist-packages/torch/utils/data/dataloader.py:627: UserWarning: This DataLoader will create 4 worker processes in total. Our suggested max number of worker in current system is 2, which is smaller than what this DataLoader is going to create. Please be aware that excessive worker creation might get DataLoader running slow or even freeze, lower the worker number to avoid potential slowness/freeze if necessary.\n",
            "  warnings.warn(\n"
          ]
        },
        {
          "output_type": "stream",
          "name": "stdout",
          "text": [
            "  Processing batch 0...\n",
            "    Batch loss: 0.1884, Correct predictions in batch: 30\n",
            "  Processing batch 1...\n",
            "    Batch loss: 0.1406, Correct predictions in batch: 31\n",
            "  Processing batch 2...\n",
            "    Batch loss: 0.0726, Correct predictions in batch: 31\n",
            "  Processing batch 3...\n",
            "    Batch loss: 0.3408, Correct predictions in batch: 25\n",
            "Train Epoch 6: Total Loss 23.7568, Avg Loss 0.1605 | Correct 117 | Accuracy 79.05% | LR 0.01\n",
            "Starting validation...\n",
            "  Processing validation batch 0...\n",
            "    Validation batch loss: 3.1707, Correct predictions in batch: 32\n",
            "  Processing validation batch 1...\n",
            "    Validation batch loss: 1.0690, Correct predictions in batch: 32\n",
            "  Processing validation batch 2...\n",
            "    Validation batch loss: 13.0050, Correct predictions in batch: 26\n",
            "  Processing validation batch 3...\n",
            "    Validation batch loss: 10.2421, Correct predictions in batch: 26\n",
            "  Processing validation batch 4...\n",
            "    Validation batch loss: 10.2784, Correct predictions in batch: 13\n",
            "val set: Avg Loss 0.2552 | Accuracy 87.16% | AUC 0.9646\n",
            "Validation loss decreased (0.400734 --> 0.255169).  Saving model ...\n",
            "Model saved (best AUC).\n",
            "Starting training epoch 7...\n"
          ]
        },
        {
          "output_type": "stream",
          "name": "stderr",
          "text": [
            "/usr/local/lib/python3.12/dist-packages/torch/utils/data/dataloader.py:627: UserWarning: This DataLoader will create 4 worker processes in total. Our suggested max number of worker in current system is 2, which is smaller than what this DataLoader is going to create. Please be aware that excessive worker creation might get DataLoader running slow or even freeze, lower the worker number to avoid potential slowness/freeze if necessary.\n",
            "  warnings.warn(\n"
          ]
        },
        {
          "output_type": "stream",
          "name": "stdout",
          "text": [
            "  Processing batch 0...\n",
            "    Batch loss: 0.2134, Correct predictions in batch: 31\n",
            "  Processing batch 1...\n",
            "    Batch loss: 0.1607, Correct predictions in batch: 29\n",
            "  Processing batch 2...\n",
            "    Batch loss: 0.2071, Correct predictions in batch: 30\n",
            "  Processing batch 3...\n",
            "    Batch loss: 0.1684, Correct predictions in batch: 31\n",
            "Train Epoch 7: Total Loss 23.9865, Avg Loss 0.1621 | Correct 121 | Accuracy 81.76% | LR 0.01\n",
            "Starting validation...\n",
            "  Processing validation batch 0...\n",
            "    Validation batch loss: 8.8645, Correct predictions in batch: 31\n",
            "  Processing validation batch 1...\n",
            "    Validation batch loss: 11.4967, Correct predictions in batch: 27\n",
            "  Processing validation batch 2...\n",
            "    Validation batch loss: 7.8496, Correct predictions in batch: 28\n",
            "  Processing validation batch 3...\n",
            "    Validation batch loss: 1.4227, Correct predictions in batch: 32\n",
            "  Processing validation batch 4...\n",
            "    Validation batch loss: 3.5507, Correct predictions in batch: 20\n",
            "val set: Avg Loss 0.2242 | Accuracy 93.24% | AUC 0.9833\n",
            "Validation loss decreased (0.255169 --> 0.224217).  Saving model ...\n",
            "Model saved (best AUC).\n",
            "Starting training epoch 8...\n"
          ]
        },
        {
          "output_type": "stream",
          "name": "stderr",
          "text": [
            "/usr/local/lib/python3.12/dist-packages/torch/utils/data/dataloader.py:627: UserWarning: This DataLoader will create 4 worker processes in total. Our suggested max number of worker in current system is 2, which is smaller than what this DataLoader is going to create. Please be aware that excessive worker creation might get DataLoader running slow or even freeze, lower the worker number to avoid potential slowness/freeze if necessary.\n",
            "  warnings.warn(\n"
          ]
        },
        {
          "output_type": "stream",
          "name": "stdout",
          "text": [
            "  Processing batch 0...\n",
            "    Batch loss: 0.1914, Correct predictions in batch: 29\n",
            "  Processing batch 1...\n",
            "    Batch loss: 0.0598, Correct predictions in batch: 32\n",
            "  Processing batch 2...\n",
            "    Batch loss: 0.0552, Correct predictions in batch: 32\n",
            "  Processing batch 3...\n",
            "    Batch loss: 0.2087, Correct predictions in batch: 29\n",
            "Train Epoch 8: Total Loss 16.4853, Avg Loss 0.1114 | Correct 122 | Accuracy 82.43% | LR 0.01\n",
            "Starting validation...\n",
            "  Processing validation batch 0...\n",
            "    Validation batch loss: 3.2357, Correct predictions in batch: 31\n",
            "  Processing validation batch 1...\n",
            "    Validation batch loss: 1.4504, Correct predictions in batch: 32\n",
            "  Processing validation batch 2...\n",
            "    Validation batch loss: 16.8443, Correct predictions in batch: 22\n",
            "  Processing validation batch 3...\n",
            "    Validation batch loss: 6.6178, Correct predictions in batch: 31\n",
            "  Processing validation batch 4...\n",
            "    Validation batch loss: 15.2229, Correct predictions in batch: 11\n",
            "val set: Avg Loss 0.2930 | Accuracy 85.81% | AUC 0.9469\n",
            "EarlyStopping counter: 1 out of 20\n",
            "Starting training epoch 9...\n"
          ]
        },
        {
          "output_type": "stream",
          "name": "stderr",
          "text": [
            "/usr/local/lib/python3.12/dist-packages/torch/utils/data/dataloader.py:627: UserWarning: This DataLoader will create 4 worker processes in total. Our suggested max number of worker in current system is 2, which is smaller than what this DataLoader is going to create. Please be aware that excessive worker creation might get DataLoader running slow or even freeze, lower the worker number to avoid potential slowness/freeze if necessary.\n",
            "  warnings.warn(\n"
          ]
        },
        {
          "output_type": "stream",
          "name": "stdout",
          "text": [
            "  Processing batch 0...\n",
            "    Batch loss: 0.0207, Correct predictions in batch: 32\n",
            "  Processing batch 1...\n",
            "    Batch loss: 0.1323, Correct predictions in batch: 31\n",
            "  Processing batch 2...\n",
            "    Batch loss: 0.0894, Correct predictions in batch: 32\n",
            "  Processing batch 3...\n",
            "    Batch loss: 0.4153, Correct predictions in batch: 28\n",
            "Train Epoch 9: Total Loss 21.0448, Avg Loss 0.1422 | Correct 123 | Accuracy 83.11% | LR 0.01\n",
            "Starting validation...\n",
            "  Processing validation batch 0...\n",
            "    Validation batch loss: 1.3202, Correct predictions in batch: 32\n",
            "  Processing validation batch 1...\n",
            "    Validation batch loss: 0.6090, Correct predictions in batch: 32\n",
            "  Processing validation batch 2...\n",
            "    Validation batch loss: 15.3140, Correct predictions in batch: 24\n",
            "  Processing validation batch 3...\n",
            "    Validation batch loss: 4.5683, Correct predictions in batch: 32\n",
            "  Processing validation batch 4...\n",
            "    Validation batch loss: 8.4410, Correct predictions in batch: 17\n",
            "val set: Avg Loss 0.2044 | Accuracy 92.57% | AUC 0.9775\n",
            "Validation loss decreased (0.224217 --> 0.204409).  Saving model ...\n",
            "Starting training epoch 10...\n"
          ]
        },
        {
          "output_type": "stream",
          "name": "stderr",
          "text": [
            "/usr/local/lib/python3.12/dist-packages/torch/utils/data/dataloader.py:627: UserWarning: This DataLoader will create 4 worker processes in total. Our suggested max number of worker in current system is 2, which is smaller than what this DataLoader is going to create. Please be aware that excessive worker creation might get DataLoader running slow or even freeze, lower the worker number to avoid potential slowness/freeze if necessary.\n",
            "  warnings.warn(\n"
          ]
        },
        {
          "output_type": "stream",
          "name": "stdout",
          "text": [
            "  Processing batch 0...\n",
            "    Batch loss: 0.0574, Correct predictions in batch: 31\n",
            "  Processing batch 1...\n",
            "    Batch loss: 0.0602, Correct predictions in batch: 31\n",
            "  Processing batch 2...\n",
            "    Batch loss: 0.0128, Correct predictions in batch: 32\n",
            "  Processing batch 3...\n",
            "    Batch loss: 0.0286, Correct predictions in batch: 32\n",
            "Train Epoch 10: Total Loss 5.0927, Avg Loss 0.0344 | Correct 126 | Accuracy 85.14% | LR 0.001\n",
            "Starting validation...\n",
            "  Processing validation batch 0...\n",
            "    Validation batch loss: 0.8023, Correct predictions in batch: 32\n",
            "  Processing validation batch 1...\n",
            "    Validation batch loss: 0.2903, Correct predictions in batch: 32\n",
            "  Processing validation batch 2...\n",
            "    Validation batch loss: 18.1810, Correct predictions in batch: 24\n",
            "  Processing validation batch 3...\n",
            "    Validation batch loss: 4.1533, Correct predictions in batch: 31\n",
            "  Processing validation batch 4...\n",
            "    Validation batch loss: 8.8253, Correct predictions in batch: 16\n",
            "val set: Avg Loss 0.2179 | Accuracy 91.22% | AUC 0.9706\n",
            "EarlyStopping counter: 1 out of 20\n",
            "Starting training epoch 11...\n"
          ]
        },
        {
          "output_type": "stream",
          "name": "stderr",
          "text": [
            "/usr/local/lib/python3.12/dist-packages/torch/utils/data/dataloader.py:627: UserWarning: This DataLoader will create 4 worker processes in total. Our suggested max number of worker in current system is 2, which is smaller than what this DataLoader is going to create. Please be aware that excessive worker creation might get DataLoader running slow or even freeze, lower the worker number to avoid potential slowness/freeze if necessary.\n",
            "  warnings.warn(\n"
          ]
        },
        {
          "output_type": "stream",
          "name": "stdout",
          "text": [
            "  Processing batch 0...\n",
            "    Batch loss: 0.0232, Correct predictions in batch: 32\n",
            "  Processing batch 1...\n",
            "    Batch loss: 0.0304, Correct predictions in batch: 32\n",
            "  Processing batch 2...\n",
            "    Batch loss: 0.0317, Correct predictions in batch: 32\n",
            "  Processing batch 3...\n",
            "    Batch loss: 0.1104, Correct predictions in batch: 30\n",
            "Train Epoch 11: Total Loss 6.2636, Avg Loss 0.0423 | Correct 126 | Accuracy 85.14% | LR 0.001\n",
            "Starting validation...\n",
            "  Processing validation batch 0...\n",
            "    Validation batch loss: 0.7651, Correct predictions in batch: 32\n",
            "  Processing validation batch 1...\n",
            "    Validation batch loss: 0.2139, Correct predictions in batch: 32\n",
            "  Processing validation batch 2...\n",
            "    Validation batch loss: 16.0402, Correct predictions in batch: 25\n",
            "  Processing validation batch 3...\n",
            "    Validation batch loss: 3.5822, Correct predictions in batch: 31\n",
            "  Processing validation batch 4...\n",
            "    Validation batch loss: 6.1495, Correct predictions in batch: 18\n",
            "val set: Avg Loss 0.1807 | Accuracy 93.24% | AUC 0.9795\n",
            "Validation loss decreased (0.204409 --> 0.180750).  Saving model ...\n",
            "Starting training epoch 12...\n"
          ]
        },
        {
          "output_type": "stream",
          "name": "stderr",
          "text": [
            "/usr/local/lib/python3.12/dist-packages/torch/utils/data/dataloader.py:627: UserWarning: This DataLoader will create 4 worker processes in total. Our suggested max number of worker in current system is 2, which is smaller than what this DataLoader is going to create. Please be aware that excessive worker creation might get DataLoader running slow or even freeze, lower the worker number to avoid potential slowness/freeze if necessary.\n",
            "  warnings.warn(\n"
          ]
        },
        {
          "output_type": "stream",
          "name": "stdout",
          "text": [
            "  Processing batch 0...\n",
            "    Batch loss: 0.0451, Correct predictions in batch: 31\n",
            "  Processing batch 1...\n",
            "    Batch loss: 0.0426, Correct predictions in batch: 32\n",
            "  Processing batch 2...\n",
            "    Batch loss: 0.0436, Correct predictions in batch: 31\n",
            "  Processing batch 3...\n",
            "    Batch loss: 0.0522, Correct predictions in batch: 31\n",
            "Train Epoch 12: Total Loss 5.8733, Avg Loss 0.0397 | Correct 125 | Accuracy 84.46% | LR 0.001\n",
            "Starting validation...\n",
            "  Processing validation batch 0...\n",
            "    Validation batch loss: 0.7594, Correct predictions in batch: 32\n",
            "  Processing validation batch 1...\n",
            "    Validation batch loss: 0.1666, Correct predictions in batch: 32\n",
            "  Processing validation batch 2...\n",
            "    Validation batch loss: 14.9741, Correct predictions in batch: 25\n",
            "  Processing validation batch 3...\n",
            "    Validation batch loss: 4.0026, Correct predictions in batch: 31\n",
            "  Processing validation batch 4...\n",
            "    Validation batch loss: 4.4378, Correct predictions in batch: 19\n",
            "val set: Avg Loss 0.1645 | Accuracy 93.92% | AUC 0.9832\n",
            "Validation loss decreased (0.180750 --> 0.164463).  Saving model ...\n",
            "Starting training epoch 13...\n"
          ]
        },
        {
          "output_type": "stream",
          "name": "stderr",
          "text": [
            "/usr/local/lib/python3.12/dist-packages/torch/utils/data/dataloader.py:627: UserWarning: This DataLoader will create 4 worker processes in total. Our suggested max number of worker in current system is 2, which is smaller than what this DataLoader is going to create. Please be aware that excessive worker creation might get DataLoader running slow or even freeze, lower the worker number to avoid potential slowness/freeze if necessary.\n",
            "  warnings.warn(\n"
          ]
        },
        {
          "output_type": "stream",
          "name": "stdout",
          "text": [
            "  Processing batch 0...\n",
            "    Batch loss: 0.0363, Correct predictions in batch: 32\n",
            "  Processing batch 1...\n",
            "    Batch loss: 0.0748, Correct predictions in batch: 32\n",
            "  Processing batch 2...\n",
            "    Batch loss: 0.0361, Correct predictions in batch: 32\n",
            "  Processing batch 3...\n",
            "    Batch loss: 0.0356, Correct predictions in batch: 32\n",
            "Train Epoch 13: Total Loss 5.8525, Avg Loss 0.0395 | Correct 128 | Accuracy 86.49% | LR 0.001\n",
            "Starting validation...\n",
            "  Processing validation batch 0...\n",
            "    Validation batch loss: 0.4609, Correct predictions in batch: 32\n",
            "  Processing validation batch 1...\n",
            "    Validation batch loss: 0.0938, Correct predictions in batch: 32\n",
            "  Processing validation batch 2...\n",
            "    Validation batch loss: 17.0444, Correct predictions in batch: 25\n",
            "  Processing validation batch 3...\n",
            "    Validation batch loss: 5.6037, Correct predictions in batch: 31\n",
            "  Processing validation batch 4...\n",
            "    Validation batch loss: 4.9679, Correct predictions in batch: 18\n",
            "val set: Avg Loss 0.1903 | Accuracy 93.24% | AUC 0.9777\n",
            "EarlyStopping counter: 1 out of 20\n",
            "Starting training epoch 14...\n"
          ]
        },
        {
          "output_type": "stream",
          "name": "stderr",
          "text": [
            "/usr/local/lib/python3.12/dist-packages/torch/utils/data/dataloader.py:627: UserWarning: This DataLoader will create 4 worker processes in total. Our suggested max number of worker in current system is 2, which is smaller than what this DataLoader is going to create. Please be aware that excessive worker creation might get DataLoader running slow or even freeze, lower the worker number to avoid potential slowness/freeze if necessary.\n",
            "  warnings.warn(\n"
          ]
        },
        {
          "output_type": "stream",
          "name": "stdout",
          "text": [
            "  Processing batch 0...\n",
            "    Batch loss: 0.0328, Correct predictions in batch: 32\n",
            "  Processing batch 1...\n",
            "    Batch loss: 0.0287, Correct predictions in batch: 32\n",
            "  Processing batch 2...\n",
            "    Batch loss: 0.0293, Correct predictions in batch: 32\n",
            "  Processing batch 3...\n",
            "    Batch loss: 0.0853, Correct predictions in batch: 32\n",
            "Train Epoch 14: Total Loss 5.6352, Avg Loss 0.0381 | Correct 128 | Accuracy 86.49% | LR 0.001\n",
            "Starting validation...\n",
            "  Processing validation batch 0...\n",
            "    Validation batch loss: 0.4214, Correct predictions in batch: 32\n",
            "  Processing validation batch 1...\n",
            "    Validation batch loss: 0.0863, Correct predictions in batch: 32\n",
            "  Processing validation batch 2...\n",
            "    Validation batch loss: 15.8011, Correct predictions in batch: 25\n",
            "  Processing validation batch 3...\n",
            "    Validation batch loss: 5.6146, Correct predictions in batch: 31\n",
            "  Processing validation batch 4...\n",
            "    Validation batch loss: 4.2888, Correct predictions in batch: 18\n",
            "val set: Avg Loss 0.1771 | Accuracy 93.24% | AUC 0.9808\n",
            "EarlyStopping counter: 2 out of 20\n",
            "Starting training epoch 15...\n"
          ]
        },
        {
          "output_type": "stream",
          "name": "stderr",
          "text": [
            "/usr/local/lib/python3.12/dist-packages/torch/utils/data/dataloader.py:627: UserWarning: This DataLoader will create 4 worker processes in total. Our suggested max number of worker in current system is 2, which is smaller than what this DataLoader is going to create. Please be aware that excessive worker creation might get DataLoader running slow or even freeze, lower the worker number to avoid potential slowness/freeze if necessary.\n",
            "  warnings.warn(\n"
          ]
        },
        {
          "output_type": "stream",
          "name": "stdout",
          "text": [
            "  Processing batch 0...\n",
            "    Batch loss: 0.0368, Correct predictions in batch: 32\n",
            "  Processing batch 1...\n",
            "    Batch loss: 0.0266, Correct predictions in batch: 32\n",
            "  Processing batch 2...\n",
            "    Batch loss: 0.0326, Correct predictions in batch: 32\n",
            "  Processing batch 3...\n",
            "    Batch loss: 0.0372, Correct predictions in batch: 32\n",
            "Train Epoch 15: Total Loss 4.2614, Avg Loss 0.0288 | Correct 128 | Accuracy 86.49% | LR 0.001\n",
            "Starting validation...\n",
            "  Processing validation batch 0...\n",
            "    Validation batch loss: 0.3022, Correct predictions in batch: 32\n",
            "  Processing validation batch 1...\n",
            "    Validation batch loss: 0.0865, Correct predictions in batch: 32\n",
            "  Processing validation batch 2...\n",
            "    Validation batch loss: 17.1883, Correct predictions in batch: 25\n",
            "  Processing validation batch 3...\n",
            "    Validation batch loss: 4.7676, Correct predictions in batch: 31\n",
            "  Processing validation batch 4...\n",
            "    Validation batch loss: 5.1936, Correct predictions in batch: 18\n",
            "val set: Avg Loss 0.1861 | Accuracy 93.24% | AUC 0.9774\n",
            "EarlyStopping counter: 3 out of 20\n",
            "Starting training epoch 16...\n"
          ]
        },
        {
          "output_type": "stream",
          "name": "stderr",
          "text": [
            "/usr/local/lib/python3.12/dist-packages/torch/utils/data/dataloader.py:627: UserWarning: This DataLoader will create 4 worker processes in total. Our suggested max number of worker in current system is 2, which is smaller than what this DataLoader is going to create. Please be aware that excessive worker creation might get DataLoader running slow or even freeze, lower the worker number to avoid potential slowness/freeze if necessary.\n",
            "  warnings.warn(\n"
          ]
        },
        {
          "output_type": "stream",
          "name": "stdout",
          "text": [
            "  Processing batch 0...\n",
            "    Batch loss: 0.0206, Correct predictions in batch: 32\n",
            "  Processing batch 1...\n",
            "    Batch loss: 0.1062, Correct predictions in batch: 31\n",
            "  Processing batch 2...\n",
            "    Batch loss: 0.1021, Correct predictions in batch: 30\n",
            "  Processing batch 3...\n",
            "    Batch loss: 0.0127, Correct predictions in batch: 32\n",
            "Train Epoch 16: Total Loss 7.7302, Avg Loss 0.0522 | Correct 125 | Accuracy 84.46% | LR 0.001\n",
            "Starting validation...\n",
            "  Processing validation batch 0...\n",
            "    Validation batch loss: 0.3861, Correct predictions in batch: 32\n",
            "  Processing validation batch 1...\n",
            "    Validation batch loss: 0.0874, Correct predictions in batch: 32\n",
            "  Processing validation batch 2...\n",
            "    Validation batch loss: 17.2661, Correct predictions in batch: 25\n",
            "  Processing validation batch 3...\n",
            "    Validation batch loss: 5.8653, Correct predictions in batch: 30\n",
            "  Processing validation batch 4...\n",
            "    Validation batch loss: 5.4027, Correct predictions in batch: 18\n",
            "val set: Avg Loss 0.1960 | Accuracy 92.57% | AUC 0.9763\n",
            "EarlyStopping counter: 4 out of 20\n",
            "Starting training epoch 17...\n"
          ]
        },
        {
          "output_type": "stream",
          "name": "stderr",
          "text": [
            "/usr/local/lib/python3.12/dist-packages/torch/utils/data/dataloader.py:627: UserWarning: This DataLoader will create 4 worker processes in total. Our suggested max number of worker in current system is 2, which is smaller than what this DataLoader is going to create. Please be aware that excessive worker creation might get DataLoader running slow or even freeze, lower the worker number to avoid potential slowness/freeze if necessary.\n",
            "  warnings.warn(\n"
          ]
        },
        {
          "output_type": "stream",
          "name": "stdout",
          "text": [
            "  Processing batch 0...\n",
            "    Batch loss: 0.0187, Correct predictions in batch: 32\n",
            "  Processing batch 1...\n",
            "    Batch loss: 0.0444, Correct predictions in batch: 32\n",
            "  Processing batch 2...\n",
            "    Batch loss: 0.0660, Correct predictions in batch: 31\n",
            "  Processing batch 3...\n",
            "    Batch loss: 0.0179, Correct predictions in batch: 32\n",
            "Train Epoch 17: Total Loss 4.7034, Avg Loss 0.0318 | Correct 127 | Accuracy 85.81% | LR 0.001\n",
            "Starting validation...\n",
            "  Processing validation batch 0...\n",
            "    Validation batch loss: 0.2991, Correct predictions in batch: 32\n",
            "  Processing validation batch 1...\n",
            "    Validation batch loss: 0.0880, Correct predictions in batch: 32\n",
            "  Processing validation batch 2...\n",
            "    Validation batch loss: 18.9778, Correct predictions in batch: 25\n",
            "  Processing validation batch 3...\n",
            "    Validation batch loss: 5.2061, Correct predictions in batch: 30\n",
            "  Processing validation batch 4...\n",
            "    Validation batch loss: 6.9148, Correct predictions in batch: 17\n",
            "val set: Avg Loss 0.2127 | Accuracy 91.89% | AUC 0.9728\n",
            "EarlyStopping counter: 5 out of 20\n",
            "Starting training epoch 18...\n"
          ]
        },
        {
          "output_type": "stream",
          "name": "stderr",
          "text": [
            "/usr/local/lib/python3.12/dist-packages/torch/utils/data/dataloader.py:627: UserWarning: This DataLoader will create 4 worker processes in total. Our suggested max number of worker in current system is 2, which is smaller than what this DataLoader is going to create. Please be aware that excessive worker creation might get DataLoader running slow or even freeze, lower the worker number to avoid potential slowness/freeze if necessary.\n",
            "  warnings.warn(\n"
          ]
        },
        {
          "output_type": "stream",
          "name": "stdout",
          "text": [
            "  Processing batch 0...\n",
            "    Batch loss: 0.0240, Correct predictions in batch: 32\n",
            "  Processing batch 1...\n",
            "    Batch loss: 0.0220, Correct predictions in batch: 32\n",
            "  Processing batch 2...\n",
            "    Batch loss: 0.0186, Correct predictions in batch: 32\n",
            "  Processing batch 3...\n",
            "    Batch loss: 0.0516, Correct predictions in batch: 31\n",
            "Train Epoch 18: Total Loss 3.7184, Avg Loss 0.0251 | Correct 127 | Accuracy 85.81% | LR 0.001\n",
            "Starting validation...\n",
            "  Processing validation batch 0...\n",
            "    Validation batch loss: 0.2536, Correct predictions in batch: 32\n",
            "  Processing validation batch 1...\n",
            "    Validation batch loss: 0.0778, Correct predictions in batch: 32\n",
            "  Processing validation batch 2...\n",
            "    Validation batch loss: 18.7702, Correct predictions in batch: 25\n",
            "  Processing validation batch 3...\n",
            "    Validation batch loss: 5.1375, Correct predictions in batch: 31\n",
            "  Processing validation batch 4...\n",
            "    Validation batch loss: 6.4772, Correct predictions in batch: 18\n",
            "val set: Avg Loss 0.2075 | Accuracy 93.24% | AUC 0.9738\n",
            "EarlyStopping counter: 6 out of 20\n",
            "Starting training epoch 19...\n"
          ]
        },
        {
          "output_type": "stream",
          "name": "stderr",
          "text": [
            "/usr/local/lib/python3.12/dist-packages/torch/utils/data/dataloader.py:627: UserWarning: This DataLoader will create 4 worker processes in total. Our suggested max number of worker in current system is 2, which is smaller than what this DataLoader is going to create. Please be aware that excessive worker creation might get DataLoader running slow or even freeze, lower the worker number to avoid potential slowness/freeze if necessary.\n",
            "  warnings.warn(\n"
          ]
        },
        {
          "output_type": "stream",
          "name": "stdout",
          "text": [
            "  Processing batch 0...\n",
            "    Batch loss: 0.0537, Correct predictions in batch: 31\n",
            "  Processing batch 1...\n",
            "    Batch loss: 0.0483, Correct predictions in batch: 32\n",
            "  Processing batch 2...\n",
            "    Batch loss: 0.0338, Correct predictions in batch: 32\n",
            "  Processing batch 3...\n",
            "    Batch loss: 0.0296, Correct predictions in batch: 32\n",
            "Train Epoch 19: Total Loss 5.2929, Avg Loss 0.0358 | Correct 127 | Accuracy 85.81% | LR 0.001\n",
            "Starting validation...\n",
            "  Processing validation batch 0...\n",
            "    Validation batch loss: 0.1446, Correct predictions in batch: 32\n",
            "  Processing validation batch 1...\n",
            "    Validation batch loss: 0.0537, Correct predictions in batch: 32\n",
            "  Processing validation batch 2...\n",
            "    Validation batch loss: 22.1875, Correct predictions in batch: 24\n",
            "  Processing validation batch 3...\n",
            "    Validation batch loss: 5.3377, Correct predictions in batch: 30\n",
            "  Processing validation batch 4...\n",
            "    Validation batch loss: 7.7128, Correct predictions in batch: 18\n",
            "val set: Avg Loss 0.2394 | Accuracy 91.89% | AUC 0.9676\n",
            "EarlyStopping counter: 7 out of 20\n",
            "Starting training epoch 20...\n"
          ]
        },
        {
          "output_type": "stream",
          "name": "stderr",
          "text": [
            "/usr/local/lib/python3.12/dist-packages/torch/utils/data/dataloader.py:627: UserWarning: This DataLoader will create 4 worker processes in total. Our suggested max number of worker in current system is 2, which is smaller than what this DataLoader is going to create. Please be aware that excessive worker creation might get DataLoader running slow or even freeze, lower the worker number to avoid potential slowness/freeze if necessary.\n",
            "  warnings.warn(\n"
          ]
        },
        {
          "output_type": "stream",
          "name": "stdout",
          "text": [
            "  Processing batch 0...\n",
            "    Batch loss: 0.0323, Correct predictions in batch: 32\n",
            "  Processing batch 1...\n",
            "    Batch loss: 0.0652, Correct predictions in batch: 31\n",
            "  Processing batch 2...\n",
            "    Batch loss: 0.0180, Correct predictions in batch: 32\n",
            "  Processing batch 3...\n",
            "    Batch loss: 0.0361, Correct predictions in batch: 32\n",
            "Train Epoch 20: Total Loss 4.8524, Avg Loss 0.0328 | Correct 127 | Accuracy 85.81% | LR 0.00010000000000000002\n",
            "Starting validation...\n",
            "  Processing validation batch 0...\n",
            "    Validation batch loss: 0.1703, Correct predictions in batch: 32\n",
            "  Processing validation batch 1...\n",
            "    Validation batch loss: 0.0576, Correct predictions in batch: 32\n",
            "  Processing validation batch 2...\n",
            "    Validation batch loss: 20.4034, Correct predictions in batch: 24\n",
            "  Processing validation batch 3...\n",
            "    Validation batch loss: 4.8204, Correct predictions in batch: 31\n",
            "  Processing validation batch 4...\n",
            "    Validation batch loss: 6.7041, Correct predictions in batch: 18\n",
            "val set: Avg Loss 0.2173 | Accuracy 92.57% | AUC 0.9708\n",
            "EarlyStopping counter: 8 out of 20\n",
            "Starting training epoch 21...\n"
          ]
        },
        {
          "output_type": "stream",
          "name": "stderr",
          "text": [
            "/usr/local/lib/python3.12/dist-packages/torch/utils/data/dataloader.py:627: UserWarning: This DataLoader will create 4 worker processes in total. Our suggested max number of worker in current system is 2, which is smaller than what this DataLoader is going to create. Please be aware that excessive worker creation might get DataLoader running slow or even freeze, lower the worker number to avoid potential slowness/freeze if necessary.\n",
            "  warnings.warn(\n"
          ]
        },
        {
          "output_type": "stream",
          "name": "stdout",
          "text": [
            "  Processing batch 0...\n",
            "    Batch loss: 0.0137, Correct predictions in batch: 32\n",
            "  Processing batch 1...\n",
            "    Batch loss: 0.0184, Correct predictions in batch: 32\n",
            "  Processing batch 2...\n",
            "    Batch loss: 0.0355, Correct predictions in batch: 32\n",
            "  Processing batch 3...\n",
            "    Batch loss: 0.1147, Correct predictions in batch: 30\n",
            "Train Epoch 21: Total Loss 5.8331, Avg Loss 0.0394 | Correct 126 | Accuracy 85.14% | LR 0.00010000000000000002\n",
            "Starting validation...\n",
            "  Processing validation batch 0...\n",
            "    Validation batch loss: 0.2013, Correct predictions in batch: 32\n",
            "  Processing validation batch 1...\n",
            "    Validation batch loss: 0.0696, Correct predictions in batch: 32\n",
            "  Processing validation batch 2...\n",
            "    Validation batch loss: 18.9106, Correct predictions in batch: 25\n",
            "  Processing validation batch 3...\n",
            "    Validation batch loss: 4.2714, Correct predictions in batch: 31\n",
            "  Processing validation batch 4...\n",
            "    Validation batch loss: 6.0345, Correct predictions in batch: 18\n",
            "val set: Avg Loss 0.1992 | Accuracy 93.24% | AUC 0.9746\n",
            "EarlyStopping counter: 9 out of 20\n",
            "Starting training epoch 22...\n"
          ]
        },
        {
          "output_type": "stream",
          "name": "stderr",
          "text": [
            "/usr/local/lib/python3.12/dist-packages/torch/utils/data/dataloader.py:627: UserWarning: This DataLoader will create 4 worker processes in total. Our suggested max number of worker in current system is 2, which is smaller than what this DataLoader is going to create. Please be aware that excessive worker creation might get DataLoader running slow or even freeze, lower the worker number to avoid potential slowness/freeze if necessary.\n",
            "  warnings.warn(\n"
          ]
        },
        {
          "output_type": "stream",
          "name": "stdout",
          "text": [
            "  Processing batch 0...\n",
            "    Batch loss: 0.0225, Correct predictions in batch: 32\n",
            "  Processing batch 1...\n",
            "    Batch loss: 0.0342, Correct predictions in batch: 32\n",
            "  Processing batch 2...\n",
            "    Batch loss: 0.0453, Correct predictions in batch: 31\n",
            "  Processing batch 3...\n",
            "    Batch loss: 0.0550, Correct predictions in batch: 32\n",
            "Train Epoch 22: Total Loss 5.0217, Avg Loss 0.0339 | Correct 127 | Accuracy 85.81% | LR 0.00010000000000000002\n",
            "Starting validation...\n",
            "  Processing validation batch 0...\n",
            "    Validation batch loss: 0.2163, Correct predictions in batch: 32\n",
            "  Processing validation batch 1...\n",
            "    Validation batch loss: 0.0769, Correct predictions in batch: 32\n",
            "  Processing validation batch 2...\n",
            "    Validation batch loss: 18.2177, Correct predictions in batch: 25\n",
            "  Processing validation batch 3...\n",
            "    Validation batch loss: 3.9646, Correct predictions in batch: 31\n",
            "  Processing validation batch 4...\n",
            "    Validation batch loss: 5.8921, Correct predictions in batch: 18\n",
            "val set: Avg Loss 0.1917 | Accuracy 93.24% | AUC 0.9765\n",
            "EarlyStopping counter: 10 out of 20\n",
            "Starting training epoch 23...\n"
          ]
        },
        {
          "output_type": "stream",
          "name": "stderr",
          "text": [
            "/usr/local/lib/python3.12/dist-packages/torch/utils/data/dataloader.py:627: UserWarning: This DataLoader will create 4 worker processes in total. Our suggested max number of worker in current system is 2, which is smaller than what this DataLoader is going to create. Please be aware that excessive worker creation might get DataLoader running slow or even freeze, lower the worker number to avoid potential slowness/freeze if necessary.\n",
            "  warnings.warn(\n"
          ]
        },
        {
          "output_type": "stream",
          "name": "stdout",
          "text": [
            "  Processing batch 0...\n",
            "    Batch loss: 0.0367, Correct predictions in batch: 32\n",
            "  Processing batch 1...\n",
            "    Batch loss: 0.0255, Correct predictions in batch: 32\n",
            "  Processing batch 2...\n",
            "    Batch loss: 0.0175, Correct predictions in batch: 32\n",
            "  Processing batch 3...\n",
            "    Batch loss: 0.0153, Correct predictions in batch: 32\n",
            "Train Epoch 23: Total Loss 3.0430, Avg Loss 0.0206 | Correct 128 | Accuracy 86.49% | LR 0.00010000000000000002\n",
            "Starting validation...\n",
            "  Processing validation batch 0...\n",
            "    Validation batch loss: 0.1928, Correct predictions in batch: 32\n",
            "  Processing validation batch 1...\n",
            "    Validation batch loss: 0.0642, Correct predictions in batch: 32\n",
            "  Processing validation batch 2...\n",
            "    Validation batch loss: 19.9862, Correct predictions in batch: 25\n",
            "  Processing validation batch 3...\n",
            "    Validation batch loss: 4.6112, Correct predictions in batch: 31\n",
            "  Processing validation batch 4...\n",
            "    Validation batch loss: 6.7588, Correct predictions in batch: 18\n",
            "val set: Avg Loss 0.2136 | Accuracy 93.24% | AUC 0.9722\n",
            "EarlyStopping counter: 11 out of 20\n",
            "Starting training epoch 24...\n"
          ]
        },
        {
          "output_type": "stream",
          "name": "stderr",
          "text": [
            "/usr/local/lib/python3.12/dist-packages/torch/utils/data/dataloader.py:627: UserWarning: This DataLoader will create 4 worker processes in total. Our suggested max number of worker in current system is 2, which is smaller than what this DataLoader is going to create. Please be aware that excessive worker creation might get DataLoader running slow or even freeze, lower the worker number to avoid potential slowness/freeze if necessary.\n",
            "  warnings.warn(\n"
          ]
        },
        {
          "output_type": "stream",
          "name": "stdout",
          "text": [
            "  Processing batch 0...\n",
            "    Batch loss: 0.0349, Correct predictions in batch: 32\n",
            "  Processing batch 1...\n",
            "    Batch loss: 0.0790, Correct predictions in batch: 31\n",
            "  Processing batch 2...\n",
            "    Batch loss: 0.0726, Correct predictions in batch: 31\n",
            "  Processing batch 3...\n",
            "    Batch loss: 0.0297, Correct predictions in batch: 32\n",
            "Train Epoch 24: Total Loss 6.9166, Avg Loss 0.0467 | Correct 126 | Accuracy 85.14% | LR 0.00010000000000000002\n",
            "Starting validation...\n",
            "  Processing validation batch 0...\n",
            "    Validation batch loss: 0.2110, Correct predictions in batch: 32\n",
            "  Processing validation batch 1...\n",
            "    Validation batch loss: 0.0718, Correct predictions in batch: 32\n",
            "  Processing validation batch 2...\n",
            "    Validation batch loss: 19.0288, Correct predictions in batch: 25\n",
            "  Processing validation batch 3...\n",
            "    Validation batch loss: 3.8750, Correct predictions in batch: 31\n",
            "  Processing validation batch 4...\n",
            "    Validation batch loss: 6.2585, Correct predictions in batch: 18\n",
            "val set: Avg Loss 0.1990 | Accuracy 93.24% | AUC 0.9752\n",
            "EarlyStopping counter: 12 out of 20\n",
            "Starting training epoch 25...\n"
          ]
        },
        {
          "output_type": "stream",
          "name": "stderr",
          "text": [
            "/usr/local/lib/python3.12/dist-packages/torch/utils/data/dataloader.py:627: UserWarning: This DataLoader will create 4 worker processes in total. Our suggested max number of worker in current system is 2, which is smaller than what this DataLoader is going to create. Please be aware that excessive worker creation might get DataLoader running slow or even freeze, lower the worker number to avoid potential slowness/freeze if necessary.\n",
            "  warnings.warn(\n"
          ]
        },
        {
          "output_type": "stream",
          "name": "stdout",
          "text": [
            "  Processing batch 0...\n",
            "    Batch loss: 0.0515, Correct predictions in batch: 32\n",
            "  Processing batch 1...\n",
            "    Batch loss: 0.0361, Correct predictions in batch: 32\n",
            "  Processing batch 2...\n",
            "    Batch loss: 0.1324, Correct predictions in batch: 30\n",
            "  Processing batch 3...\n",
            "    Batch loss: 0.0194, Correct predictions in batch: 32\n",
            "Train Epoch 25: Total Loss 7.6626, Avg Loss 0.0518 | Correct 126 | Accuracy 85.14% | LR 0.00010000000000000002\n",
            "Starting validation...\n",
            "  Processing validation batch 0...\n",
            "    Validation batch loss: 0.2339, Correct predictions in batch: 32\n",
            "  Processing validation batch 1...\n",
            "    Validation batch loss: 0.0744, Correct predictions in batch: 32\n",
            "  Processing validation batch 2...\n",
            "    Validation batch loss: 18.8673, Correct predictions in batch: 25\n",
            "  Processing validation batch 3...\n",
            "    Validation batch loss: 3.8574, Correct predictions in batch: 31\n",
            "  Processing validation batch 4...\n",
            "    Validation batch loss: 5.9959, Correct predictions in batch: 18\n",
            "val set: Avg Loss 0.1961 | Accuracy 93.24% | AUC 0.9759\n",
            "EarlyStopping counter: 13 out of 20\n",
            "Starting training epoch 26...\n"
          ]
        },
        {
          "output_type": "stream",
          "name": "stderr",
          "text": [
            "/usr/local/lib/python3.12/dist-packages/torch/utils/data/dataloader.py:627: UserWarning: This DataLoader will create 4 worker processes in total. Our suggested max number of worker in current system is 2, which is smaller than what this DataLoader is going to create. Please be aware that excessive worker creation might get DataLoader running slow or even freeze, lower the worker number to avoid potential slowness/freeze if necessary.\n",
            "  warnings.warn(\n"
          ]
        },
        {
          "output_type": "stream",
          "name": "stdout",
          "text": [
            "  Processing batch 0...\n",
            "    Batch loss: 0.0265, Correct predictions in batch: 32\n",
            "  Processing batch 1...\n",
            "    Batch loss: 0.0160, Correct predictions in batch: 32\n",
            "  Processing batch 2...\n",
            "    Batch loss: 0.0282, Correct predictions in batch: 32\n",
            "  Processing batch 3...\n",
            "    Batch loss: 0.0267, Correct predictions in batch: 32\n",
            "Train Epoch 26: Total Loss 3.1186, Avg Loss 0.0211 | Correct 128 | Accuracy 86.49% | LR 0.00010000000000000002\n",
            "Starting validation...\n",
            "  Processing validation batch 0...\n",
            "    Validation batch loss: 0.2066, Correct predictions in batch: 32\n",
            "  Processing validation batch 1...\n",
            "    Validation batch loss: 0.0691, Correct predictions in batch: 32\n",
            "  Processing validation batch 2...\n",
            "    Validation batch loss: 19.6188, Correct predictions in batch: 25\n",
            "  Processing validation batch 3...\n",
            "    Validation batch loss: 4.1627, Correct predictions in batch: 31\n",
            "  Processing validation batch 4...\n",
            "    Validation batch loss: 6.6606, Correct predictions in batch: 18\n",
            "val set: Avg Loss 0.2076 | Accuracy 93.24% | AUC 0.9734\n",
            "EarlyStopping counter: 14 out of 20\n",
            "Starting training epoch 27...\n"
          ]
        },
        {
          "output_type": "stream",
          "name": "stderr",
          "text": [
            "/usr/local/lib/python3.12/dist-packages/torch/utils/data/dataloader.py:627: UserWarning: This DataLoader will create 4 worker processes in total. Our suggested max number of worker in current system is 2, which is smaller than what this DataLoader is going to create. Please be aware that excessive worker creation might get DataLoader running slow or even freeze, lower the worker number to avoid potential slowness/freeze if necessary.\n",
            "  warnings.warn(\n"
          ]
        },
        {
          "output_type": "stream",
          "name": "stdout",
          "text": [
            "  Processing batch 0...\n",
            "    Batch loss: 0.0526, Correct predictions in batch: 32\n",
            "  Processing batch 1...\n",
            "    Batch loss: 0.0511, Correct predictions in batch: 31\n",
            "  Processing batch 2...\n",
            "    Batch loss: 0.0189, Correct predictions in batch: 32\n",
            "  Processing batch 3...\n",
            "    Batch loss: 0.0410, Correct predictions in batch: 32\n",
            "Train Epoch 27: Total Loss 5.2355, Avg Loss 0.0354 | Correct 127 | Accuracy 85.81% | LR 0.00010000000000000002\n",
            "Starting validation...\n",
            "  Processing validation batch 0...\n",
            "    Validation batch loss: 0.1742, Correct predictions in batch: 32\n",
            "  Processing validation batch 1...\n",
            "    Validation batch loss: 0.0548, Correct predictions in batch: 32\n",
            "  Processing validation batch 2...\n",
            "    Validation batch loss: 20.7004, Correct predictions in batch: 25\n",
            "  Processing validation batch 3...\n",
            "    Validation batch loss: 4.9011, Correct predictions in batch: 31\n",
            "  Processing validation batch 4...\n",
            "    Validation batch loss: 7.0421, Correct predictions in batch: 17\n",
            "val set: Avg Loss 0.2221 | Accuracy 92.57% | AUC 0.9707\n",
            "EarlyStopping counter: 15 out of 20\n",
            "Starting training epoch 28...\n"
          ]
        },
        {
          "output_type": "stream",
          "name": "stderr",
          "text": [
            "/usr/local/lib/python3.12/dist-packages/torch/utils/data/dataloader.py:627: UserWarning: This DataLoader will create 4 worker processes in total. Our suggested max number of worker in current system is 2, which is smaller than what this DataLoader is going to create. Please be aware that excessive worker creation might get DataLoader running slow or even freeze, lower the worker number to avoid potential slowness/freeze if necessary.\n",
            "  warnings.warn(\n"
          ]
        },
        {
          "output_type": "stream",
          "name": "stdout",
          "text": [
            "  Processing batch 0...\n",
            "    Batch loss: 0.0238, Correct predictions in batch: 32\n",
            "  Processing batch 1...\n",
            "    Batch loss: 0.0723, Correct predictions in batch: 32\n",
            "  Processing batch 2...\n",
            "    Batch loss: 0.0297, Correct predictions in batch: 32\n",
            "  Processing batch 3...\n",
            "    Batch loss: 0.1049, Correct predictions in batch: 31\n",
            "Train Epoch 28: Total Loss 7.3801, Avg Loss 0.0499 | Correct 127 | Accuracy 85.81% | LR 0.00010000000000000002\n",
            "Starting validation...\n",
            "  Processing validation batch 0...\n",
            "    Validation batch loss: 0.2105, Correct predictions in batch: 32\n",
            "  Processing validation batch 1...\n",
            "    Validation batch loss: 0.0673, Correct predictions in batch: 32\n",
            "  Processing validation batch 2...\n",
            "    Validation batch loss: 19.1771, Correct predictions in batch: 25\n",
            "  Processing validation batch 3...\n",
            "    Validation batch loss: 4.1863, Correct predictions in batch: 31\n",
            "  Processing validation batch 4...\n",
            "    Validation batch loss: 6.1478, Correct predictions in batch: 18\n",
            "val set: Avg Loss 0.2013 | Accuracy 93.24% | AUC 0.9747\n",
            "EarlyStopping counter: 16 out of 20\n",
            "Starting training epoch 29...\n"
          ]
        },
        {
          "output_type": "stream",
          "name": "stderr",
          "text": [
            "/usr/local/lib/python3.12/dist-packages/torch/utils/data/dataloader.py:627: UserWarning: This DataLoader will create 4 worker processes in total. Our suggested max number of worker in current system is 2, which is smaller than what this DataLoader is going to create. Please be aware that excessive worker creation might get DataLoader running slow or even freeze, lower the worker number to avoid potential slowness/freeze if necessary.\n",
            "  warnings.warn(\n"
          ]
        },
        {
          "output_type": "stream",
          "name": "stdout",
          "text": [
            "  Processing batch 0...\n",
            "    Batch loss: 0.0252, Correct predictions in batch: 32\n",
            "  Processing batch 1...\n",
            "    Batch loss: 0.0397, Correct predictions in batch: 32\n",
            "  Processing batch 2...\n",
            "    Batch loss: 0.0412, Correct predictions in batch: 32\n",
            "  Processing batch 3...\n",
            "    Batch loss: 0.0260, Correct predictions in batch: 32\n",
            "Train Epoch 29: Total Loss 4.2280, Avg Loss 0.0286 | Correct 128 | Accuracy 86.49% | LR 0.00010000000000000002\n",
            "Starting validation...\n",
            "  Processing validation batch 0...\n",
            "    Validation batch loss: 0.2028, Correct predictions in batch: 32\n",
            "  Processing validation batch 1...\n",
            "    Validation batch loss: 0.0654, Correct predictions in batch: 32\n",
            "  Processing validation batch 2...\n",
            "    Validation batch loss: 18.9815, Correct predictions in batch: 25\n",
            "  Processing validation batch 3...\n",
            "    Validation batch loss: 4.1433, Correct predictions in batch: 31\n",
            "  Processing validation batch 4...\n",
            "    Validation batch loss: 6.1768, Correct predictions in batch: 18\n",
            "val set: Avg Loss 0.1998 | Accuracy 93.24% | AUC 0.9748\n",
            "EarlyStopping counter: 17 out of 20\n",
            "Starting training epoch 30...\n"
          ]
        },
        {
          "output_type": "stream",
          "name": "stderr",
          "text": [
            "/usr/local/lib/python3.12/dist-packages/torch/utils/data/dataloader.py:627: UserWarning: This DataLoader will create 4 worker processes in total. Our suggested max number of worker in current system is 2, which is smaller than what this DataLoader is going to create. Please be aware that excessive worker creation might get DataLoader running slow or even freeze, lower the worker number to avoid potential slowness/freeze if necessary.\n",
            "  warnings.warn(\n"
          ]
        },
        {
          "output_type": "stream",
          "name": "stdout",
          "text": [
            "  Processing batch 0...\n",
            "    Batch loss: 0.0525, Correct predictions in batch: 31\n",
            "  Processing batch 1...\n",
            "    Batch loss: 0.0433, Correct predictions in batch: 32\n",
            "  Processing batch 2...\n",
            "    Batch loss: 0.0378, Correct predictions in batch: 32\n",
            "  Processing batch 3...\n",
            "    Batch loss: 0.0193, Correct predictions in batch: 32\n",
            "Train Epoch 30: Total Loss 4.8934, Avg Loss 0.0331 | Correct 127 | Accuracy 85.81% | LR 1.0000000000000003e-05\n",
            "Starting validation...\n",
            "  Processing validation batch 0...\n",
            "    Validation batch loss: 0.1871, Correct predictions in batch: 32\n",
            "  Processing validation batch 1...\n",
            "    Validation batch loss: 0.0595, Correct predictions in batch: 32\n",
            "  Processing validation batch 2...\n",
            "    Validation batch loss: 20.3635, Correct predictions in batch: 25\n",
            "  Processing validation batch 3...\n",
            "    Validation batch loss: 4.5305, Correct predictions in batch: 31\n",
            "  Processing validation batch 4...\n",
            "    Validation batch loss: 7.1063, Correct predictions in batch: 17\n",
            "val set: Avg Loss 0.2179 | Accuracy 92.57% | AUC 0.9714\n",
            "EarlyStopping counter: 18 out of 20\n",
            "Starting training epoch 31...\n"
          ]
        },
        {
          "output_type": "stream",
          "name": "stderr",
          "text": [
            "/usr/local/lib/python3.12/dist-packages/torch/utils/data/dataloader.py:627: UserWarning: This DataLoader will create 4 worker processes in total. Our suggested max number of worker in current system is 2, which is smaller than what this DataLoader is going to create. Please be aware that excessive worker creation might get DataLoader running slow or even freeze, lower the worker number to avoid potential slowness/freeze if necessary.\n",
            "  warnings.warn(\n"
          ]
        },
        {
          "output_type": "stream",
          "name": "stdout",
          "text": [
            "  Processing batch 0...\n",
            "    Batch loss: 0.0126, Correct predictions in batch: 32\n",
            "  Processing batch 1...\n",
            "    Batch loss: 0.0173, Correct predictions in batch: 32\n",
            "  Processing batch 2...\n",
            "    Batch loss: 0.0445, Correct predictions in batch: 32\n",
            "  Processing batch 3...\n",
            "    Batch loss: 0.0750, Correct predictions in batch: 31\n",
            "Train Epoch 31: Total Loss 4.7822, Avg Loss 0.0323 | Correct 127 | Accuracy 85.81% | LR 1.0000000000000003e-05\n",
            "Starting validation...\n",
            "  Processing validation batch 0...\n",
            "    Validation batch loss: 0.1682, Correct predictions in batch: 32\n",
            "  Processing validation batch 1...\n",
            "    Validation batch loss: 0.0561, Correct predictions in batch: 32\n",
            "  Processing validation batch 2...\n",
            "    Validation batch loss: 20.5590, Correct predictions in batch: 25\n",
            "  Processing validation batch 3...\n",
            "    Validation batch loss: 4.8292, Correct predictions in batch: 31\n",
            "  Processing validation batch 4...\n",
            "    Validation batch loss: 7.1072, Correct predictions in batch: 17\n",
            "val set: Avg Loss 0.2211 | Accuracy 92.57% | AUC 0.9709\n",
            "EarlyStopping counter: 19 out of 20\n",
            "Starting training epoch 32...\n"
          ]
        },
        {
          "output_type": "stream",
          "name": "stderr",
          "text": [
            "/usr/local/lib/python3.12/dist-packages/torch/utils/data/dataloader.py:627: UserWarning: This DataLoader will create 4 worker processes in total. Our suggested max number of worker in current system is 2, which is smaller than what this DataLoader is going to create. Please be aware that excessive worker creation might get DataLoader running slow or even freeze, lower the worker number to avoid potential slowness/freeze if necessary.\n",
            "  warnings.warn(\n"
          ]
        },
        {
          "output_type": "stream",
          "name": "stdout",
          "text": [
            "  Processing batch 0...\n",
            "    Batch loss: 0.0296, Correct predictions in batch: 32\n",
            "  Processing batch 1...\n",
            "    Batch loss: 0.0154, Correct predictions in batch: 32\n",
            "  Processing batch 2...\n",
            "    Batch loss: 0.0224, Correct predictions in batch: 32\n",
            "  Processing batch 3...\n",
            "    Batch loss: 0.0235, Correct predictions in batch: 32\n",
            "Train Epoch 32: Total Loss 2.9073, Avg Loss 0.0196 | Correct 128 | Accuracy 86.49% | LR 1.0000000000000003e-05\n",
            "Starting validation...\n",
            "  Processing validation batch 0...\n",
            "    Validation batch loss: 0.1919, Correct predictions in batch: 32\n",
            "  Processing validation batch 1...\n",
            "    Validation batch loss: 0.0643, Correct predictions in batch: 32\n",
            "  Processing validation batch 2...\n",
            "    Validation batch loss: 19.5259, Correct predictions in batch: 25\n",
            "  Processing validation batch 3...\n",
            "    Validation batch loss: 4.4617, Correct predictions in batch: 31\n",
            "  Processing validation batch 4...\n",
            "    Validation batch loss: 6.5568, Correct predictions in batch: 18\n",
            "val set: Avg Loss 0.2081 | Accuracy 93.24% | AUC 0.9732\n",
            "EarlyStopping counter: 20 out of 20\n",
            "Early stopping triggered.\n",
            "Final trained model saved to: model/breast-cancer-dataset/resnet101_final.pth\n",
            "Training log saved to model/breast-cancer-dataset/training_log.csv\n"
          ]
        }
      ]
    },
    {
      "cell_type": "code",
      "source": [
        "# Assuming you have lists like train_losses, train_accuracies,\n",
        "# val_losses, and val_accuracies populated during training\n",
        "\n",
        "# Plotting Accuracy Curve\n",
        "plt.figure(figsize=(10, 6))\n",
        "plt.plot(train_acc_list_resnet101, label='Training Accuracy')\n",
        "plt.plot(val_acc_list_resnet101 , label='Validation Accuracy')\n",
        "plt.title('Accuracy per Epoch for resnet101')\n",
        "plt.xlabel('Epoch')\n",
        "plt.ylabel('Accuracy (%)')\n",
        "plt.legend()\n",
        "plt.grid(True)\n",
        "plt.show()\n",
        "\n",
        "# Plotting Loss Curve\n",
        "plt.figure(figsize=(10, 6))\n",
        "plt.plot(train_loss_list_resnet101, label='Training Loss')\n",
        "plt.plot(val_loss_list_resnet101, label='Validation Loss')\n",
        "plt.title('Loss per Epoch for resnet101')\n",
        "plt.xlabel('Epoch')\n",
        "plt.ylabel('Loss')\n",
        "plt.legend()\n",
        "plt.grid(True)\n",
        "plt.show()"
      ],
      "metadata": {
        "colab": {
          "base_uri": "https://localhost:8080/",
          "height": 798
        },
        "id": "BZ7vyypgq2Lb",
        "outputId": "67a8ac11-8d4d-45c4-9e4b-1cdfe1286869"
      },
      "execution_count": 21,
      "outputs": [
        {
          "output_type": "display_data",
          "data": {
            "text/plain": [
              "<Figure size 1000x600 with 1 Axes>"
            ],
            "image/png": "[encoded data removed]"
          },
          "metadata": {}
        },
        {
          "output_type": "display_data",
          "data": {
            "text/plain": [
              "<Figure size 1000x600 with 1 Axes>"
            ],
            "image/png": "[encoded data removed]"
          },
          "metadata": {}
        }
      ]
    },
    {
      "cell_type": "code",
      "source": [],
      "metadata": {
        "id": "Mdzk7LXAs7Z7"
      },
      "execution_count": 21,
      "outputs": []
    },
    {
      "cell_type": "markdown",
      "source": [
        "XGBOOSTING"
      ],
      "metadata": {
        "id": "Vx_Vd5LKhfmJ"
      }
    },
    {
      "cell_type": "code",
      "source": [
        "import os\n",
        "import numpy as np\n",
        "import pandas as pd\n",
        "import torch\n",
        "import torchvision.transforms as transforms\n",
        "import torchvision.models as models\n",
        "from torchvision.datasets import ImageFolder\n",
        "from torch.utils.data import DataLoader\n",
        "from sklearn.metrics import accuracy_score, confusion_matrix, roc_auc_score, classification_report\n",
        "from sklearn.model_selection import train_test_split\n",
        "from xgboost import XGBClassifier\n",
        "import matplotlib.pyplot as plt\n",
        "import joblib\n",
        "# from PIL import Image # PIL is imported by torchvision.datasets.ImageFolder\n",
        "\n",
        "import Models # Import your Models file\n",
        "\n",
        "# ================= CONFIG =================\n",
        "train_data_path = '/content/Breast-cancer-dataset/breast_images_pydicom/train' # Path to training data\n",
        "val_data_path = '/content/Breast-cancer-dataset/breast_images_pydicom/val'   # Path to validation data (will be used as test)\n",
        "batch_size = 32\n",
        "device = torch.device(\"cuda\" if torch.cuda.is_available() else \"cpu\")\n",
        "feature_file = \"resnet101_features_split.npy\" # Feature file name\n",
        "label_file = \"labels_split.npy\"       # Label file name\n",
        "model_save_path = \"xgboost_breast_cancer_resnet101.pkl\" # Model save path\n",
        "resnet101_model_path = '/content/Breast-cancer-dataset/Classification task/model/breast-cancer-dataset/resnet101_final.pth' # Path to your trained ResNet101 model (using the _final.pth)\n",
        "\n",
        "\n",
        "# ================= STEP 1: LOAD TRAIN AND VAL DATA =================\n",
        "print(\"Loading train and validation datasets...\")\n",
        "\n",
        "transform = transforms.Compose([\n",
        "    transforms.Resize((224, 224)),\n",
        "    transforms.ToTensor(),\n",
        "    transforms.Normalize(mean=[0.485, 0.456, 0.406],\n",
        "                         std=[0.229, 0.224, 0.225])\n",
        "])\n",
        "\n",
        "train_dataset = ImageFolder(root=train_data_path, transform=transform)\n",
        "val_dataset = ImageFolder(root=val_data_path, transform=transform) # This will be our test set for XGBoost\n",
        "\n",
        "# Get class names (should be the same for train and val)\n",
        "class_names = train_dataset.classes\n",
        "print(f\"Classes found: {class_names}\")\n",
        "\n",
        "\n",
        "# ================= STEP 2: FEATURE EXTRACTION (Trained ResNet101) =================\n",
        "# Feature extraction will be done separately for train and val datasets\n",
        "if not os.path.exists(\"X_train_feats.npy\") or not os.path.exists(\"X_val_feats.npy\"):\n",
        "    print(\"Extracting CNN features (using trained ResNet101)...\")\n",
        "    # Load the trained ResNet101 model\n",
        "    model = Models.Resnet101(num_classes=len(class_names)) # Make sure num_classes matches your model\n",
        "    # Check if the saved model was DataParallel\n",
        "    saved_model_state = torch.load(resnet101_model_path)\n",
        "    if list(saved_model_state.keys())[0].startswith('module.'):\n",
        "        model = torch.nn.DataParallel(model)\n",
        "    model.load_state_dict(saved_model_state)\n",
        "    # Remove the final classification layer for feature extraction\n",
        "    if isinstance(model, torch.nn.DataParallel):\n",
        "        model.module.fc = torch.nn.Identity()\n",
        "    else:\n",
        "        model.fc = torch.nn.Identity()\n",
        "\n",
        "    model = model.to(device)\n",
        "    model.eval()\n",
        "\n",
        "    # Function to extract features from a DataLoader\n",
        "    def extract_features_from_loader(loader, model, device):\n",
        "        features_list = []\n",
        "        labels_list = []\n",
        "        with torch.no_grad():\n",
        "            for imgs, labels in loader:\n",
        "                imgs = imgs.to(device)\n",
        "                feats = model(imgs)\n",
        "                feats = feats.cpu().numpy()\n",
        "                features_list.append(feats)\n",
        "                labels_list.append(labels.numpy())\n",
        "        return np.concatenate(features_list, axis=0), np.concatenate(labels_list, axis=0)\n",
        "\n",
        "    # Create DataLoaders for feature extraction from ImageFolder datasets\n",
        "    train_loader = DataLoader(train_dataset, batch_size=batch_size, shuffle=False)\n",
        "    val_loader = DataLoader(val_dataset, batch_size=batch_size, shuffle=False)\n",
        "\n",
        "\n",
        "    X_train_feats, y_train = extract_features_from_loader(train_loader, model, device)\n",
        "    X_val_feats, y_val = extract_features_from_loader(val_loader, model, device) # y_val will be y_test for XGBoost evaluation\n",
        "\n",
        "    # Save extracted features and labels\n",
        "    np.save(\"X_train_feats.npy\", X_train_feats)\n",
        "    np.save(\"y_train.npy\", y_train)\n",
        "    np.save(\"X_val_feats.npy\", X_val_feats) # Saving val features as X_val_feats\n",
        "    np.save(\"y_val.npy\", y_val) # Saving val labels as y_val (will be y_test for XGBoost evaluation)\n",
        "\n",
        "\n",
        "    print(f\"Saved extracted features and labels for train and val sets.\")\n",
        "\n",
        "else:\n",
        "    print(\"Loading cached CNN features...\")\n",
        "    X_train_feats = np.load(\"X_train_feats.npy\")\n",
        "    y_train = np.load(\"y_train.npy\")\n",
        "    X_val_feats = np.load(\"X_val_feats.npy\") # Loading val features as X_val_feats\n",
        "    y_val = np.load(\"y_val.npy\") # Loading val labels as y_val\n",
        "\n",
        "\n",
        "print(f\"Feature shape (Train): {X_train_feats.shape}, Labels (Train): {y_train.shape}\")\n",
        "print(f\"Feature shape (Validation/Test): {X_val_feats.shape}, Labels (Validation/Test): {y_val.shape}\")\n",
        "\n",
        "# Assign val data to test variables for clarity in evaluation step\n",
        "X_test_feats = X_val_feats\n",
        "y_test = y_val\n",
        "\n",
        "# Split train data further for XGBoost's internal validation during training\n",
        "X_train_xgb, X_val_xgb, y_train_xgb, y_val_xgb = train_test_split(X_train_feats, y_train, test_size=0.25, random_state=42, stratify=y_train)\n",
        "\n",
        "\n",
        "# ================= STEP 3: TRAIN XGBOOST =================\n",
        "print(\"Training XGBoost classifier...\")\n",
        "\n",
        "xgb_model = XGBClassifier(\n",
        "    n_estimators=300,\n",
        "    learning_rate=0.05,\n",
        "    max_depth=6,\n",
        "    subsample=0.8,\n",
        "    colsample_bytree=0.8,\n",
        "    gamma=0.1,\n",
        "    reg_lambda=1,\n",
        "    random_state=42,\n",
        "    tree_method='gpu_hist' if torch.cuda.is_available() else 'hist',\n",
        "    use_label_encoder=False,\n",
        "    eval_metric=['logloss', 'auc'] # Evaluate both logloss and AUC\n",
        ")\n",
        "\n",
        "eval_set = [(X_train_xgb, y_train_xgb), (X_val_xgb, y_val_xgb)]\n",
        "evals_result = xgb_model.fit(X_train_xgb, y_train_xgb, eval_set=eval_set, verbose=False).evals_result()\n",
        "\n",
        "\n",
        "# ================= STEP 4: EVALUATE on the original validation set (now used as test) =================\n",
        "print(\"\\nEvaluating XGBoost on the validation set (used as test set)...\")\n",
        "y_pred = xgb_model.predict(X_test_feats)\n",
        "y_prob = xgb_model.predict_proba(X_test_feats)[:, 1]\n",
        "\n",
        "acc = accuracy_score(y_test, y_pred)\n",
        "auc = roc_auc_score(y_test, y_prob)\n",
        "cm = confusion_matrix(y_test, y_pred)\n",
        "\n",
        "print(\"\\n✅ Evaluation Results:\")\n",
        "print(f\"Accuracy: {acc * 100:.2f}%\")\n",
        "print(f\"AUC: {auc:.4f}\")\n",
        "print(\"\\nConfusion Matrix:\\n\", cm)\n",
        "# Ensure target_names matches the actual classes in y_test\n",
        "target_names_eval = [class_names[i] for i in sorted(np.unique(y_test))]\n",
        "print(\"\\nClassification Report:\\n\", classification_report(y_test, y_pred, target_names=target_names_eval))\n",
        "\n",
        "\n",
        "# ================= STEP 5: SAVE MODEL & LOG =================\n",
        "joblib.dump(xgb_model, model_save_path)\n",
        "print(f\"XGBoost model saved to: {model_save_path}\")\n",
        "\n",
        "# Save results to CSV\n",
        "results = pd.DataFrame({\n",
        "    \"Metric\": [\"Accuracy\", \"ROC-AUC\"],\n",
        "    \"Value\": [acc, auc]\n",
        "})\n",
        "results.to_csv(\"xgboost_results.csv\", index=False)\n",
        "print(\"Results saved to xgboost_results.csv\")\n",
        "\n",
        "# Save evaluation results to CSV (for XGBoost's internal validation split)\n",
        "eval_results_df = pd.DataFrame({\n",
        "    'Train Logloss': evals_result['validation_0']['logloss'],\n",
        "    'Validation Logloss': evals_result['validation_1']['logloss'],\n",
        "    'Train AUC': evals_result['validation_0']['auc'],\n",
        "    'Validation AUC': evals_result['validation_1']['auc']\n",
        "})\n",
        "eval_results_df.to_csv(\"xgboost_eval_history.csv\", index_label='Boosting Round')\n",
        "print(\"Evaluation history saved to xgboost_eval_history.csv\")\n",
        "\n",
        "\n",
        "# ================= STEP 6: VISUALIZE =================\n",
        "\n",
        "# Plot Confusion Matrix\n",
        "plt.figure(figsize=(5, 4))\n",
        "plt.imshow(cm, cmap=\"Blues\")\n",
        "plt.title(\"Confusion Matrix (Evaluated on Validation Set)\")\n",
        "plt.xlabel(\"Predicted\")\n",
        "plt.ylabel(\"Actual\")\n",
        "plt.colorbar()\n",
        "# Add labels to the plot\n",
        "tick_marks = np.arange(len(target_names_eval))\n",
        "plt.xticks(tick_marks, target_names_eval, rotation=45)\n",
        "plt.yticks(tick_marks, target_names_eval)\n",
        "# Add text annotations\n",
        "thresh = cm.max() / 2.\n",
        "for i in range(cm.shape[0]):\n",
        "    for j in range(cm.shape[1]):\n",
        "        plt.text(j, i, format(cm[i, j], 'd'),\n",
        "                 ha=\"center\", va=\"center\",\n",
        "                 color=\"white\" if cm[i, j] > thresh else \"black\")\n",
        "\n",
        "plt.show()\n",
        "\n",
        "# Plot Logloss Curve (for XGBoost's internal validation split)\n",
        "plt.figure(figsize=(10, 6))\n",
        "plt.plot(evals_result['validation_0']['logloss'], label='XGBoost Train Logloss')\n",
        "plt.plot(evals_result['validation_1']['logloss'], label='XGBoost Validation Logloss')\n",
        "plt.title('XGBoost Logloss per Boosting Round')\n",
        "plt.xlabel('Boosting Round')\n",
        "plt.ylabel('Logloss')\n",
        "plt.legend()\n",
        "plt.grid(True)\n",
        "plt.show()\n",
        "\n",
        "# Plot AUC Curve (for XGBoost's internal validation split)\n",
        "plt.figure(figsize=(10, 6))\n",
        "plt.plot(evals_result['validation_0']['auc'], label='XGBoost Train AUC')\n",
        "plt.plot(evals_result['validation_1']['auc'], label='XGBoost Validation AUC')\n",
        "plt.title('XGBoost AUC per Boosting Round')\n",
        "plt.xlabel('Boosting Round')\n",
        "plt.ylabel('AUC')\n",
        "plt.legend()\n",
        "plt.grid(True)\n",
        "plt.show()"
      ],
      "metadata": {
        "colab": {
          "base_uri": "https://localhost:8080/",
          "height": 1000
        },
        "id": "A09qQUrtuIip",
        "outputId": "3f08b1d1-115b-4ad9-c61c-ffb9e2510481"
      },
      "execution_count": 23,
      "outputs": [
        {
          "output_type": "stream",
          "name": "stdout",
          "text": [
            "Loading train and validation datasets...\n",
            "Classes found: ['Benign', 'Malignant']\n",
            "Loading cached CNN features...\n",
            "Feature shape (Train): (148, 2048), Labels (Train): (148,)\n",
            "Feature shape (Validation/Test): (148, 2048), Labels (Validation/Test): (148,)\n",
            "Training XGBoost classifier...\n"
          ]
        },
        {
          "output_type": "stream",
          "name": "stderr",
          "text": [
            "/usr/local/lib/python3.12/dist-packages/xgboost/training.py:183: UserWarning: [14:11:11] WARNING: /workspace/src/common/error_msg.cc:27: The tree method `gpu_hist` is deprecated since 2.0.0. To use GPU training, set the `device` parameter to CUDA instead.\n",
            "\n",
            "    E.g. tree_method = \"hist\", device = \"cuda\"\n",
            "\n",
            "  bst.update(dtrain, iteration=i, fobj=obj)\n",
            "/usr/local/lib/python3.12/dist-packages/xgboost/training.py:183: UserWarning: [14:11:11] WARNING: /workspace/src/learner.cc:738: \n",
            "Parameters: { \"use_label_encoder\" } are not used.\n",
            "\n",
            "  bst.update(dtrain, iteration=i, fobj=obj)\n"
          ]
        },
        {
          "output_type": "stream",
          "name": "stdout",
          "text": [
            "\n",
            "Evaluating XGBoost on the validation set (used as test set)...\n",
            "\n",
            "✅ Evaluation Results:\n",
            "Accuracy: 99.32%\n",
            "AUC: 0.9996\n",
            "\n",
            "Confusion Matrix:\n",
            " [[72  0]\n",
            " [ 1 75]]\n",
            "\n",
            "Classification Report:\n",
            "               precision    recall  f1-score   support\n",
            "\n",
            "      Benign       0.99      1.00      0.99        72\n",
            "   Malignant       1.00      0.99      0.99        76\n",
            "\n",
            "    accuracy                           0.99       148\n",
            "   macro avg       0.99      0.99      0.99       148\n",
            "weighted avg       0.99      0.99      0.99       148\n",
            "\n",
            "XGBoost model saved to: xgboost_breast_cancer_resnet101.pkl\n",
            "Results saved to xgboost_results.csv\n",
            "Evaluation history saved to xgboost_eval_history.csv\n"
          ]
        },
        {
          "output_type": "stream",
          "name": "stderr",
          "text": [
            "/usr/local/lib/python3.12/dist-packages/xgboost/core.py:2676: UserWarning: [14:11:12] WARNING: /workspace/src/common/error_msg.cc:27: The tree method `gpu_hist` is deprecated since 2.0.0. To use GPU training, set the `device` parameter to CUDA instead.\n",
            "\n",
            "    E.g. tree_method = \"hist\", device = \"cuda\"\n",
            "\n",
            "  if len(data.shape) != 1 and self.num_features() != data.shape[1]:\n",
            "/usr/local/lib/python3.12/dist-packages/xgboost/core.py:729: UserWarning: [14:11:12] WARNING: /workspace/src/common/error_msg.cc:58: Falling back to prediction using DMatrix due to mismatched devices. This might lead to higher memory usage and slower performance. XGBoost is running on: cuda:0, while the input data is on: cpu.\n",
            "Potential solutions:\n",
            "- Use a data structure that matches the device ordinal in the booster.\n",
            "- Set the device for booster before call to inplace_predict.\n",
            "\n",
            "This warning will only be shown once.\n",
            "\n",
            "  return func(**kwargs)\n"
          ]
        },
        {
          "output_type": "display_data",
          "data": {
            "text/plain": [
              "<Figure size 500x400 with 2 Axes>"
            ],
            "image/png": "[encoded data removed]"
          },
          "metadata": {}
        },
        {
          "output_type": "display_data",
          "data": {
            "text/plain": [
              "<Figure size 1000x600 with 1 Axes>"
            ],
            "image/png": "[encoded data removed]"
          },
          "metadata": {}
        },
        {
          "output_type": "display_data",
          "data": {
            "text/plain": [
              "<Figure size 1000x600 with 1 Axes>"
            ],
            "image/png": "[encoded data removed]"
          },
          "metadata": {}
        }
      ]
    }
  ]
}